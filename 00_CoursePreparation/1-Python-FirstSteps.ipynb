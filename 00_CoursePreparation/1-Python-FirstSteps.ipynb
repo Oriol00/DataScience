{
 "cells": [
  {
   "cell_type": "markdown",
   "metadata": {
    "slideshow": {
     "slide_type": "slide"
    }
   },
   "source": [
    "\n",
    "In this course we'll cover the basics that you need to start using Python for data science. We'll start with the Python syntax, variable assignment, data types and numbers\n",
    "\n"
   ]
  },
  {
   "cell_type": "markdown",
   "metadata": {},
   "source": [
    "*Installation:* For new users who want to get up and running with minimal effort, we suggest you to download and install Anaconda (http://docs.continuum.io/anaconda/) which provide a setup based on Python 3.7. Anaconda is a free collection of powerful packages for Python that enables large-scale data management, analysis, and visualization for Business Intelligence, Scientific Analysis, Engineering, Machine Learning, and more.\n",
    "</div>"
   ]
  },
  {
   "cell_type": "markdown",
   "metadata": {
    "slideshow": {
     "slide_type": "slide"
    }
   },
   "source": [
    "# Python first steps\n",
    "\n",
    "Once you have IPython installed, you are ready to perform all sorts of operations. \n",
    "\n",
    "The software program that you use to invoke operators is called an **interpreter**. You enter your commands as a ‘dialog’ between you and the interpreter. Commands can be entered as part of a script (a text file with a list of commands to perform) or directly at the *cell*. \n",
    "\n",
    "## A program in Python\n",
    "\n",
    "General Rules:\n",
    "\n",
    "+ All text from a <code>#</code> simbol to the end of a line are considered as comments.\n",
    "+ Code must be **indented** and sometimes delineated by colons. The Python standard for indentation is four spaces. Never use tabs: it can produce hard to find errors. Set you editor to convert tabs to spaces.\n",
    "+ Typically, a statement must be on a line. You can use a backslash `\\` at the end of a line to continue a statement on to the next line.\n"
   ]
  },
  {
   "cell_type": "code",
   "execution_count": 1,
   "metadata": {
    "slideshow": {
     "slide_type": "subslide"
    }
   },
   "outputs": [
    {
     "data": {
      "text/plain": [
       "16"
      ]
     },
     "execution_count": 1,
     "metadata": {},
     "output_type": "execute_result"
    }
   ],
   "source": [
    "# The code below performs an arimethical operation\n",
    "3 + 4 + 9"
   ]
  },
  {
   "cell_type": "code",
   "execution_count": 2,
   "metadata": {
    "collapsed": true
   },
   "outputs": [
    {
     "name": "stdout",
     "output_type": "stream",
     "text": [
      "Computing factor 100\n",
      "Computing factor 99\n",
      "Computing factor 98\n",
      "Computing factor 97\n",
      "Computing factor 96\n",
      "Computing factor 95\n",
      "Computing factor 94\n",
      "Computing factor 93\n",
      "Computing factor 92\n",
      "Computing factor 91\n",
      "Computing factor 90\n",
      "Computing factor 89\n",
      "Computing factor 88\n",
      "Computing factor 87\n",
      "Computing factor 86\n",
      "Computing factor 85\n",
      "Computing factor 84\n",
      "Computing factor 83\n",
      "Computing factor 82\n",
      "Computing factor 81\n",
      "Computing factor 80\n",
      "Computing factor 79\n",
      "Computing factor 78\n",
      "Computing factor 77\n",
      "Computing factor 76\n",
      "Computing factor 75\n",
      "Computing factor 74\n",
      "Computing factor 73\n",
      "Computing factor 72\n",
      "Computing factor 71\n",
      "Computing factor 70\n",
      "Computing factor 69\n",
      "Computing factor 68\n",
      "Computing factor 67\n",
      "Computing factor 66\n",
      "Computing factor 65\n",
      "Computing factor 64\n",
      "Computing factor 63\n",
      "Computing factor 62\n",
      "Computing factor 61\n",
      "Computing factor 60\n",
      "Computing factor 59\n",
      "Computing factor 58\n",
      "Computing factor 57\n",
      "Computing factor 56\n",
      "Computing factor 55\n",
      "Computing factor 54\n",
      "Computing factor 53\n",
      "Computing factor 52\n",
      "Computing factor 51\n",
      "Computing factor 50\n",
      "Computing factor 49\n",
      "Computing factor 48\n",
      "Computing factor 47\n",
      "Computing factor 46\n",
      "Computing factor 45\n",
      "Computing factor 44\n",
      "Computing factor 43\n",
      "Computing factor 42\n",
      "Computing factor 41\n",
      "Computing factor 40\n",
      "Computing factor 39\n",
      "Computing factor 38\n",
      "Computing factor 37\n",
      "Computing factor 36\n",
      "Computing factor 35\n",
      "Computing factor 34\n",
      "Computing factor 33\n",
      "Computing factor 32\n",
      "Computing factor 31\n",
      "Computing factor 30\n",
      "Computing factor 29\n",
      "Computing factor 28\n",
      "Computing factor 27\n",
      "Computing factor 26\n",
      "Computing factor 25\n",
      "Computing factor 24\n",
      "Computing factor 23\n",
      "Computing factor 22\n",
      "Computing factor 21\n",
      "Computing factor 20\n",
      "Computing factor 19\n",
      "Computing factor 18\n",
      "Computing factor 17\n",
      "Computing factor 16\n",
      "Computing factor 15\n",
      "Computing factor 14\n",
      "Computing factor 13\n",
      "Computing factor 12\n",
      "Computing factor 11\n",
      "Computing factor 10\n",
      "Computing factor 9\n",
      "Computing factor 8\n",
      "Computing factor 7\n",
      "Computing factor 6\n",
      "Computing factor 5\n",
      "Computing factor 4\n",
      "Computing factor 3\n",
      "Computing factor 2\n",
      "Computing factor 1\n",
      "93326215443944152681699238856266700490715968264381621468592963895217599993229915608941463976156518286253697920827223758251185210916864000000000000000000000000\n"
     ]
    }
   ],
   "source": [
    "# This program computes the factorial of 100.\n",
    "fact = 1\n",
    "n= 100\n",
    "for factor in range(n,0,-1):\n",
    "    # The indentation meand that all the indented code is part of the for loop in the line above\n",
    "    print(\"Computing factor\", factor)\n",
    "    fact = fact * factor \n",
    "print(fact)    \n"
   ]
  },
  {
   "cell_type": "markdown",
   "metadata": {},
   "source": [
    "## Variables\n",
    "Often the value returned by an operation will be used later on. Values can be stored for later use with the **assignment operator**:"
   ]
  },
  {
   "cell_type": "code",
   "execution_count": 3,
   "metadata": {},
   "outputs": [
    {
     "data": {
      "text/plain": [
       "int"
      ]
     },
     "execution_count": 3,
     "metadata": {},
     "output_type": "execute_result"
    }
   ],
   "source": [
    "a = 101\n",
    "type(a)"
   ]
  },
  {
   "cell_type": "markdown",
   "metadata": {},
   "source": [
    "The command has stored the value 101 under the name <code>a</code>. Such stored values are called **objects**. \n",
    "\n",
    "Making an assignment to an object defines the object. Once an object has been defined, it can be referred to and used in later computations. \n",
    "\n",
    "To refer to the value stored in the object, just use the object’s name itself. For instance:"
   ]
  },
  {
   "cell_type": "code",
   "execution_count": 4,
   "metadata": {},
   "outputs": [
    {
     "data": {
      "text/plain": [
       "float"
      ]
     },
     "execution_count": 4,
     "metadata": {},
     "output_type": "execute_result"
    }
   ],
   "source": [
    "a = a / 3\n",
    "a\n",
    "type(a)"
   ]
  },
  {
   "cell_type": "markdown",
   "metadata": {},
   "source": [
    "There are some general rules for object names:\n",
    "\n",
    "+ Use only letters and numbers and ‘underscores’ (_)\n",
    "+ Do NOT use spaces anywhere in the name\n",
    "+ A number cannot be the first character in the name\n",
    "+ Capital letters are treated as distinct from lower-case letters (i.e., Python is case-sensitive)"
   ]
  },
  {
   "cell_type": "code",
   "execution_count": 5,
   "metadata": {},
   "outputs": [
    {
     "ename": "SyntaxError",
     "evalue": "invalid syntax (<ipython-input-5-f986eee6e224>, line 1)",
     "output_type": "error",
     "traceback": [
      "\u001b[0;36m  File \u001b[0;32m\"<ipython-input-5-f986eee6e224>\"\u001b[0;36m, line \u001b[0;32m1\u001b[0m\n\u001b[0;31m    3a = 10\u001b[0m\n\u001b[0m     ^\u001b[0m\n\u001b[0;31mSyntaxError\u001b[0m\u001b[0;31m:\u001b[0m invalid syntax\n"
     ]
    }
   ],
   "source": [
    "3a = 10"
   ]
  },
  {
   "cell_type": "code",
   "execution_count": 6,
   "metadata": {},
   "outputs": [
    {
     "name": "stdout",
     "output_type": "stream",
     "text": [
      "3\n"
     ]
    }
   ],
   "source": [
    "a = 3\n",
    "print(a)"
   ]
  },
  {
   "cell_type": "code",
   "execution_count": 7,
   "metadata": {},
   "outputs": [
    {
     "ename": "NameError",
     "evalue": "name 'A' is not defined",
     "output_type": "error",
     "traceback": [
      "\u001b[0;31m---------------------------------------------------------------------------\u001b[0m",
      "\u001b[0;31mNameError\u001b[0m                                 Traceback (most recent call last)",
      "\u001b[0;32m<ipython-input-7-97ee1be2f744>\u001b[0m in \u001b[0;36m<module>\u001b[0;34m\u001b[0m\n\u001b[1;32m      1\u001b[0m \u001b[0ma\u001b[0m \u001b[0;34m=\u001b[0m \u001b[0;36m3\u001b[0m\u001b[0;34m\u001b[0m\u001b[0;34m\u001b[0m\u001b[0m\n\u001b[0;32m----> 2\u001b[0;31m \u001b[0mprint\u001b[0m\u001b[0;34m(\u001b[0m\u001b[0mA\u001b[0m\u001b[0;34m)\u001b[0m\u001b[0;34m\u001b[0m\u001b[0;34m\u001b[0m\u001b[0m\n\u001b[0m",
      "\u001b[0;31mNameError\u001b[0m: name 'A' is not defined"
     ]
    }
   ],
   "source": [
    "a = 3\n",
    "print(A)"
   ]
  },
  {
   "cell_type": "markdown",
   "metadata": {},
   "source": [
    "### Data Types\n",
    "\n",
    "Most of the examples used so far have dealt with numbers. But computers work with other kinds of information as well: text, photographs, sounds, sets of data, and so on. The word *type* is used to refer to the kind of information. \n",
    "\n",
    "It’s important to know about the types of data because operators expect their input arguments to be of specific types. When you use the wrong type of input, the computer might not be able to process your command."
   ]
  },
  {
   "cell_type": "markdown",
   "metadata": {},
   "source": [
    "For our purposes, it’s important to distinguish among several basic types:\n",
    "\n",
    "+ Numeric (positive and negative) data: \n",
    "    + decimal and fractional numbers (**floats**), <code>a = 3.5</code>\n",
    "    + arbitrary length whole numbers (**ints**):  <code>c=1809109863596239561236235625629561</code>\n",
    "+ **Strings** of textual data - you indicate string data to the computer by enclosing the text in quotation marks (e.g., <code>name = \"python\"</code>).\n",
    "+ **Boolean** data: <code>a = True</code> or <code>a = False</code>.\n",
    "+ **Complex** numbers: <code>a = 2+3j</code>\n",
    "+ Sequence types: **tuples, lists, sets, dictionaries** and **files**."
   ]
  },
  {
   "cell_type": "code",
   "execution_count": 8,
   "metadata": {},
   "outputs": [
    {
     "data": {
      "text/plain": [
       "bool"
      ]
     },
     "execution_count": 8,
     "metadata": {},
     "output_type": "execute_result"
    }
   ],
   "source": [
    "a = True\n",
    "type(a)"
   ]
  },
  {
   "cell_type": "code",
   "execution_count": 9,
   "metadata": {},
   "outputs": [
    {
     "name": "stdout",
     "output_type": "stream",
     "text": [
      "a\n"
     ]
    }
   ],
   "source": [
    "a = 'a'\n",
    "print(a)"
   ]
  },
  {
   "cell_type": "markdown",
   "metadata": {},
   "source": [
    "Variables can be reassigned and it's possible to change their type:"
   ]
  },
  {
   "cell_type": "code",
   "execution_count": 10,
   "metadata": {},
   "outputs": [
    {
     "name": "stdout",
     "output_type": "stream",
     "text": [
      "Initial value of a:  16\n",
      "Type of a:  <class 'int'>\n",
      "\n",
      "Value of a after being modified:  5.333333333333333\n",
      "Type of a:  <class 'float'>\n"
     ]
    }
   ],
   "source": [
    "a = 3 + 4 + 9\n",
    "print(\"Initial value of a: \", a)\n",
    "print(\"Type of a: \", type(a))\n",
    "\n",
    "a = a / 3\n",
    "print(\"\\nValue of a after being modified: \", a)\n",
    "print(\"Type of a: \", type(a))"
   ]
  },
  {
   "cell_type": "markdown",
   "metadata": {},
   "source": [
    "In addition to being the names of Python's to main numerical tuypes, ìint`and `float`can also be called as functions which convert their arguments to the corresponding type:"
   ]
  },
  {
   "cell_type": "code",
   "execution_count": 11,
   "metadata": {},
   "outputs": [
    {
     "name": "stdout",
     "output_type": "stream",
     "text": [
      "10.0\n",
      "3\n",
      "409\n"
     ]
    }
   ],
   "source": [
    "print(float(10))\n",
    "print(int(3.33))\n",
    "print(int(403 + 6))"
   ]
  },
  {
   "cell_type": "markdown",
   "metadata": {},
   "source": [
    "## Operators\n",
    "\n",
    "+ Addition (also string, tuple and list concatenation) <code>a + b</code>\n",
    "+ Subtraction (also set difference): <code>a - b</code>\n",
    "+ Multiplication (also string, tuple and list replication): <code>a * b</code>\n",
    "+ Division: <code>a / b</code>\n",
    "+ Truncated integer division (rounded towards minus infinity): <code>a // b</code>\n",
    "+ Modulus or remainder: <code>a % b</code>\n",
    "+ Exponentiation: <code>a ** b</code>\n",
    "+ Assignment: <code>=</code>, <code>-=</code>, <code>+=</code>,<code>/=</code>,<code>*=</code>, <code>%=</code>, <code>//=</code>, <code>**=</code>\n",
    "+ Boolean comparisons: <code>==</code>, <code>!=</code>, <code><</code>,<code>></code>,<code><=</code>, <code>>=</code>\n",
    "+ Boolean operators: <code>and</code>, <code>or</code>, <code>not</code>\n",
    "+ Membership test operators: <code>in</code>, <code>not in</code>\n",
    "+ Object identity operators: <code>is</code>, <code>is not</code>\n",
    "+ Bitwise operators (or, xor, and, complement): <code>|</code>, <code>^</code>, <code>&</code>, <code>~</code>\n",
    "+ Left and right bit shift: <code><<</code>, <code>>></code>"
   ]
  },
  {
   "cell_type": "markdown",
   "metadata": {},
   "source": [
    "### Python as a calculator\n",
    "\n",
    "The Python language has a concise notation for arithmetic that looks very much like the traditional one."
   ]
  },
  {
   "cell_type": "code",
   "execution_count": 12,
   "metadata": {},
   "outputs": [
    {
     "name": "stdout",
     "output_type": "stream",
     "text": [
      "5 -28.0 1.6666666666666667 1.6666666666666667\n"
     ]
    }
   ],
   "source": [
    "a = 3+2\n",
    "b= 3.5 * -8\n",
    "c = 10/6\n",
    "print(a, b, c, 10./6.)"
   ]
  },
  {
   "cell_type": "markdown",
   "metadata": {},
   "source": [
    "Some math functions are not available in the basic Python module, and they need to be imported from a specific module:"
   ]
  },
  {
   "cell_type": "code",
   "execution_count": 13,
   "metadata": {},
   "outputs": [
    {
     "name": "stdout",
     "output_type": "stream",
     "text": [
      "5.635227012480034\n"
     ]
    }
   ],
   "source": [
    "import math   # this instruction is not executed if the module has already been imported\n",
    "print(math.pi + math.sin(100) + math.ceil(2.3))"
   ]
  },
  {
   "cell_type": "markdown",
   "metadata": {},
   "source": [
    "### String processing with Python\n",
    "\n",
    "Strings are list of characters:"
   ]
  },
  {
   "cell_type": "code",
   "execution_count": 14,
   "metadata": {},
   "outputs": [
    {
     "data": {
      "text/plain": [
       "str"
      ]
     },
     "execution_count": 14,
     "metadata": {},
     "output_type": "execute_result"
    }
   ],
   "source": [
    "a = 'python'\n",
    "type(a)"
   ]
  },
  {
   "cell_type": "code",
   "execution_count": 15,
   "metadata": {},
   "outputs": [
    {
     "name": "stdout",
     "output_type": "stream",
     "text": [
      "Hello\n"
     ]
    }
   ],
   "source": [
    "print(\"Hello\" )"
   ]
  },
  {
   "cell_type": "code",
   "execution_count": 16,
   "metadata": {},
   "outputs": [
    {
     "name": "stdout",
     "output_type": "stream",
     "text": [
      "This is 'an example' of the use of quotes and double quotes\n",
      "This is \"another example\" of the use of quotes and double quotes\n"
     ]
    }
   ],
   "source": [
    "print(\"This is 'an example' of the use of quotes and double quotes\")\n",
    "print('This is \"another example\" of the use of quotes and double quotes')"
   ]
  },
  {
   "cell_type": "markdown",
   "metadata": {},
   "source": [
    "We can use the operator ``+`` to concatenate strings:"
   ]
  },
  {
   "cell_type": "code",
   "execution_count": 17,
   "metadata": {},
   "outputs": [
    {
     "name": "stdout",
     "output_type": "stream",
     "text": [
      "Hello!\n"
     ]
    }
   ],
   "source": [
    "a = 'He'\n",
    "b = 'llo'\n",
    "c = a+b+'!'\n",
    "print(c)"
   ]
  },
  {
   "cell_type": "markdown",
   "metadata": {},
   "source": [
    "### Objects, attributes and methods\n",
    "\n",
    "In Python, we say that *everything is an object*. Objects have attributes that can be accessed using the *dot* syntax.\n",
    "\n",
    "For example, the real and the imaginary part of a complex number can be accessed with the real and imag attributes:"
   ]
  },
  {
   "cell_type": "code",
   "execution_count": 18,
   "metadata": {},
   "outputs": [
    {
     "name": "stdout",
     "output_type": "stream",
     "text": [
      "2.0 3.0\n"
     ]
    }
   ],
   "source": [
    "num = 2 + 3j\n",
    "print(num.real, num.imag)"
   ]
  },
  {
   "cell_type": "markdown",
   "metadata": {},
   "source": [
    "Objects carry with them functions as well, that can be called using parentheses:"
   ]
  },
  {
   "cell_type": "code",
   "execution_count": 19,
   "metadata": {},
   "outputs": [
    {
     "data": {
      "text/plain": [
       "(2-3j)"
      ]
     },
     "execution_count": 19,
     "metadata": {},
     "output_type": "execute_result"
    }
   ],
   "source": [
    "num.conjugate()"
   ]
  },
  {
   "cell_type": "markdown",
   "metadata": {},
   "source": [
    "It is possible to get a list of attributes and methods of an objects just by pressing the *tab* key after the dot:"
   ]
  },
  {
   "cell_type": "code",
   "execution_count": 20,
   "metadata": {},
   "outputs": [
    {
     "ename": "SyntaxError",
     "evalue": "invalid syntax (<ipython-input-20-04565d11ad50>, line 2)",
     "output_type": "error",
     "traceback": [
      "\u001b[0;36m  File \u001b[0;32m\"<ipython-input-20-04565d11ad50>\"\u001b[0;36m, line \u001b[0;32m2\u001b[0m\n\u001b[0;31m    num.\u001b[0m\n\u001b[0m        ^\u001b[0m\n\u001b[0;31mSyntaxError\u001b[0m\u001b[0;31m:\u001b[0m invalid syntax\n"
     ]
    }
   ],
   "source": [
    "# Enter on the edit mode of this cell and press the tab key with the cursor after the dot\n",
    "num."
   ]
  },
  {
   "cell_type": "markdown",
   "metadata": {},
   "source": [
    "### References\n",
    "\n",
    "We can inspect the reference of an object:"
   ]
  },
  {
   "cell_type": "code",
   "execution_count": 21,
   "metadata": {},
   "outputs": [
    {
     "name": "stdout",
     "output_type": "stream",
     "text": [
      "140648099747888\n"
     ]
    }
   ],
   "source": [
    "a ='hello'\n",
    "print(id(a))"
   ]
  },
  {
   "cell_type": "markdown",
   "metadata": {},
   "source": [
    "Two different objects:"
   ]
  },
  {
   "cell_type": "code",
   "execution_count": 22,
   "metadata": {},
   "outputs": [
    {
     "name": "stdout",
     "output_type": "stream",
     "text": [
      "140649179171968 140649179172352\n",
      "False\n",
      "True\n"
     ]
    }
   ],
   "source": [
    "a = [1,2,3]\n",
    "b = [1,2,3]\n",
    "print(id(a), id(b))\n",
    "print (a is b)\n",
    "print (a == b)"
   ]
  },
  {
   "cell_type": "markdown",
   "metadata": {},
   "source": [
    "Object alias:"
   ]
  },
  {
   "cell_type": "code",
   "execution_count": 23,
   "metadata": {},
   "outputs": [
    {
     "name": "stdout",
     "output_type": "stream",
     "text": [
      "140649450247040 140649450247040\n"
     ]
    }
   ],
   "source": [
    "a = [1,2,3]\n",
    "b = a                     # alias\n",
    "print(id(a), id(b))"
   ]
  },
  {
   "cell_type": "markdown",
   "metadata": {},
   "source": [
    "Cloning:"
   ]
  },
  {
   "cell_type": "code",
   "execution_count": 24,
   "metadata": {},
   "outputs": [
    {
     "name": "stdout",
     "output_type": "stream",
     "text": [
      "[1, 2, 3] [1, 2, 3] [2, 3] 140649450278144 140649450458432 140649179172480\n"
     ]
    }
   ],
   "source": [
    "a = [1,2,3]\n",
    "b = a[:]                  # cloning with :\n",
    "\n",
    "print(a, b, b[1:], id(a), id(b), id(b[1:]))"
   ]
  },
  {
   "cell_type": "markdown",
   "metadata": {},
   "source": [
    "When a list is an argument of a function, we are sending the *reference*, not a *copy*"
   ]
  },
  {
   "cell_type": "markdown",
   "metadata": {},
   "source": [
    "<hr/>\n",
    "\n",
    "# Exercices"
   ]
  },
  {
   "cell_type": "markdown",
   "metadata": {},
   "source": [
    "## 1.\n",
    "Print the variable type of `a`. Then make the variable equal to the string \"Am I still an integer?\". Print the variable type again."
   ]
  },
  {
   "cell_type": "code",
   "execution_count": 2,
   "metadata": {},
   "outputs": [
    {
     "name": "stdout",
     "output_type": "stream",
     "text": [
      "<class 'int'>\n",
      "<class 'str'>\n"
     ]
    }
   ],
   "source": [
    "### Set up code - don't modify this part ##\n",
    "a = 2\n",
    "##########################################\n",
    "\n",
    "# Your code goes here\n",
    "print(type(a))\n",
    "a = \"Am I still an integer\"\n",
    "print(type(a))\n",
    "\n",
    "##########################################"
   ]
  },
  {
   "cell_type": "markdown",
   "metadata": {},
   "source": [
    "## 2.\n",
    "Add code to calculate the area `A` and the volume `V` of a cylinder of radius `r` and height `h`. "
   ]
  },
  {
   "cell_type": "code",
   "execution_count": 6,
   "metadata": {},
   "outputs": [
    {
     "name": "stdout",
     "output_type": "stream",
     "text": [
      "A = 408.4067\n",
      "V = 628.318\n"
     ]
    }
   ],
   "source": [
    "\n",
    "\n",
    "#A. = 2 π rh + 2 π r² .\n",
    "#V =  π h r²\n",
    "### Set up code - don't modify this part ##\n",
    "r = 5\n",
    "h = 8\n",
    "pi = 3.14159\n",
    "##########################################\n",
    "\n",
    "a = (2 * pi * r * h) + (2 * pi * r*r)   \n",
    "v = pi*h*r*r\n",
    "\n",
    "# Your code goes here\n",
    "print (\"A = \" + str(a))\n",
    "print (\"V = \" + str(v))\n",
    "\n",
    "\n",
    "##########################################\n",
    "\n",
    "# A = 408.4067\n",
    "# V = 628.318"
   ]
  },
  {
   "cell_type": "markdown",
   "metadata": {},
   "source": [
    "## 3.\n",
    "Change the value of the `my_name` variable to actually be equal to *your* name. Then, concatenate the `saultation`and the `my_name` variables into a new variable called `full_salutation`. Print the result\n"
   ]
  },
  {
   "cell_type": "code",
   "execution_count": 8,
   "metadata": {},
   "outputs": [
    {
     "name": "stdout",
     "output_type": "stream",
     "text": [
      "Hi Eloi\n"
     ]
    }
   ],
   "source": [
    "### Set up code - don't modify this part ##\n",
    "salutation = \"Hi \"\n",
    "my_name = \"Unknown\"\n",
    "##########################################\n",
    "\n",
    "# Your code goes here\n",
    "my_name = \"Eloi\"\n",
    "full_salutation  = salutation + my_name\n",
    "print (full_salutation)\n",
    "\n",
    "##########################################"
   ]
  }
 ],
 "metadata": {
  "kernelspec": {
   "display_name": "Python 3",
   "language": "python",
   "name": "python3"
  },
  "language_info": {
   "codemirror_mode": {
    "name": "ipython",
    "version": 3
   },
   "file_extension": ".py",
   "mimetype": "text/x-python",
   "name": "python",
   "nbconvert_exporter": "python",
   "pygments_lexer": "ipython3",
   "version": "3.8.3"
  },
  "widgets": {
   "state": {},
   "version": "1.1.1"
  }
 },
 "nbformat": 4,
 "nbformat_minor": 1
}

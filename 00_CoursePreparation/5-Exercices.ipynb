{
 "cells": [
  {
   "cell_type": "markdown",
   "id": "4814c1d7",
   "metadata": {},
   "source": [
    "### Conditionals"
   ]
  },
  {
   "cell_type": "code",
   "execution_count": 28,
   "id": "d7e2eb77",
   "metadata": {},
   "outputs": [],
   "source": [
    "from itertools import product"
   ]
  },
  {
   "cell_type": "markdown",
   "id": "6950cf74",
   "metadata": {},
   "source": [
    "### 1. \n",
    "Modify the code below so that it prints on screen whether the number is even, odd or zero (Hint: use the % operator)"
   ]
  },
  {
   "cell_type": "code",
   "execution_count": 4,
   "id": "832f8e78",
   "metadata": {},
   "outputs": [
    {
     "name": "stdout",
     "output_type": "stream",
     "text": [
      "The number 3 is: odd\n"
     ]
    }
   ],
   "source": [
    "a = 3\n",
    "def is_even(a):\n",
    "    \n",
    "    print(\"The number\", a, \"is:\", end=' ')\n",
    "    \n",
    "    ###########################################\n",
    "    # add your conditional statements here\n",
    "    if a==0:\n",
    "        print('zero')\n",
    "    elif 3%2==0:\n",
    "        print('even')\n",
    "    else:\n",
    "        print('odd')\n",
    "    ###########################################\n",
    "\n",
    "is_even(a)\n",
    "    \n"
   ]
  },
  {
   "cell_type": "markdown",
   "id": "155e5149",
   "metadata": {},
   "source": [
    "### 2.\n",
    "\n",
    "Add a condition to the previous code to check that the number is an integer."
   ]
  },
  {
   "cell_type": "code",
   "execution_count": 34,
   "id": "b5bed8c1",
   "metadata": {},
   "outputs": [
    {
     "name": "stdout",
     "output_type": "stream",
     "text": [
      "The number 3 is:\n",
      "integer\n",
      "odd\n"
     ]
    }
   ],
   "source": [
    "a = 3\n",
    "def is_even(a):\n",
    "    \n",
    "    print(\"The number\", a, \"is:\")\n",
    "    \n",
    "    ###########################################\n",
    "    # add your conditional statements here.\n",
    "    \n",
    "    # Check is integer\n",
    "    if a %1==0:\n",
    "        print('integer')\n",
    "    else:\n",
    "        print('non integer')\n",
    "    \n",
    "    # Check is even/odd\n",
    "    if a==0:\n",
    "        print('zero')\n",
    "    elif 3%2==0:\n",
    "        print('even')\n",
    "    else:\n",
    "        print('odd')\n",
    "    ###########################################\n",
    "\n",
    "is_even(a)\n",
    "    \n",
    "\n"
   ]
  },
  {
   "cell_type": "markdown",
   "id": "760dff64",
   "metadata": {},
   "source": [
    "### 3. \n",
    "Create a function that takes 2 parameters. Given two integer numbers return their product only if the product is greater than 1000, else return their sum."
   ]
  },
  {
   "cell_type": "code",
   "execution_count": 3,
   "id": "a7fa8a20",
   "metadata": {},
   "outputs": [],
   "source": [
    "# Your code goes here\n",
    "def prod_or_sum(a,b):\n",
    "    if a*b < 1000:\n",
    "        return a*b\n",
    "    else:\n",
    "        return a+b"
   ]
  },
  {
   "cell_type": "markdown",
   "id": "e9d5b379",
   "metadata": {},
   "source": [
    "## Lists"
   ]
  },
  {
   "cell_type": "markdown",
   "id": "8f991680",
   "metadata": {},
   "source": [
    "### 4.\n",
    "Concatenate two list index-wise"
   ]
  },
  {
   "cell_type": "code",
   "execution_count": 7,
   "id": "e5df70ab",
   "metadata": {},
   "outputs": [
    {
     "data": {
      "text/plain": [
       "['My', 'name', 'is', 'Kelly']"
      ]
     },
     "execution_count": 7,
     "metadata": {},
     "output_type": "execute_result"
    }
   ],
   "source": [
    "list1 = [\"M\", \"na\", \"i\", \"Ke\"]\n",
    "list2 = [\"y\", \"me\", \"s\", \"lly\"]\n",
    "\n",
    "# Your code goes here\n",
    "\n",
    "# Expected output:\n",
    "# ['My', 'name', 'is', 'Kelly']\n",
    "[a+b for a, b in zip(list1,list2)]"
   ]
  },
  {
   "cell_type": "markdown",
   "id": "a5148416",
   "metadata": {},
   "source": [
    "### 5.\n",
    "Concatenate two list item to item to get the expected output"
   ]
  },
  {
   "cell_type": "code",
   "execution_count": 9,
   "id": "488cf500",
   "metadata": {},
   "outputs": [
    {
     "data": {
      "text/plain": [
       "['Hello Dear', 'Hello Sir', 'Bye Dear', 'Bye Sir']"
      ]
     },
     "execution_count": 9,
     "metadata": {},
     "output_type": "execute_result"
    }
   ],
   "source": [
    "list1 = [\"Hello \", \"Bye \"]\n",
    "list2 = [\"Dear\", \"Sir\"]\n",
    "\n",
    "# Your code goes here\n",
    "\n",
    "# Expected output:\n",
    "# ['Hello Dear', 'Hello Sir', 'Bye Dear', 'Bye Sir']\n",
    "from itertools import product\n",
    "[a+b for a, b in product(list1, list2)]"
   ]
  },
  {
   "cell_type": "markdown",
   "id": "587ac593",
   "metadata": {},
   "source": [
    "### 6.\n",
    "Find number 20 in the following list and replace it by 200. Replace only the first occurrence"
   ]
  },
  {
   "cell_type": "code",
   "execution_count": 2,
   "id": "da1f39e7",
   "metadata": {},
   "outputs": [
    {
     "data": {
      "text/plain": [
       "[5, 10, 15, 200, 25, 50, 20]"
      ]
     },
     "execution_count": 2,
     "metadata": {},
     "output_type": "execute_result"
    }
   ],
   "source": [
    "mylist = [5, 10, 15, 20, 25, 50, 20]\n",
    "\n",
    "# Your code goes here\n",
    "\n",
    "# Expected output:\n",
    "# [5, 10, 15, 200, 25, 50, 20]\n",
    "for i, v in enumerate(mylist):\n",
    "    if v == 20:\n",
    "        mylist[i]=200\n",
    "        break\n",
    "mylist"
   ]
  },
  {
   "cell_type": "markdown",
   "id": "99292996",
   "metadata": {},
   "source": [
    "### 7.\n",
    "Remove all 20s from the following list"
   ]
  },
  {
   "cell_type": "code",
   "execution_count": 20,
   "id": "9a04b84a",
   "metadata": {},
   "outputs": [
    {
     "data": {
      "text/plain": [
       "[5, 10, 15, 25, 50]"
      ]
     },
     "execution_count": 20,
     "metadata": {},
     "output_type": "execute_result"
    }
   ],
   "source": [
    "mylist = [5, 10, 15, 20, 25, 50, 20]\n",
    "\n",
    "# Your code goes here\n",
    "\n",
    "# Expected output:\n",
    "# [5, 10, 15, 25, 50]\n",
    "while 20 in mylist:\n",
    "    mylist.remove(20)\n",
    "mylist"
   ]
  },
  {
   "cell_type": "markdown",
   "id": "4294466d",
   "metadata": {},
   "source": [
    "### 8. \n",
    "Write a program to iterate through the item in a list and in each iteration, print the sum of the current and previous number."
   ]
  },
  {
   "cell_type": "code",
   "execution_count": 57,
   "id": "0245fa79",
   "metadata": {},
   "outputs": [
    {
     "name": "stdout",
     "output_type": "stream",
     "text": [
      "[2, 6, 10, 14, 18]\n",
      "Current item: 2 previous item: 0 sum: 2\n",
      "Current item: 6 previous item: 2 sum: 8\n",
      "Current item: 10 previous item: 6 sum: 16\n",
      "Current item: 14 previous item: 10 sum: 24\n",
      "Current item: 18 previous item: 14 sum: 32\n",
      "\n",
      "Current item: 2 previous item: 0 sum: 2\n",
      "Current item: 6 previous item: 2 sum: 8\n",
      "Current item: 10 previous item: 6 sum: 16\n",
      "Current item: 14 previous item: 10 sum: 24\n",
      "Current item: 18 previous item: 14 sum: 32\n"
     ]
    }
   ],
   "source": [
    "mylist = list(range(2, 20, 4))\n",
    "print(mylist)\n",
    "\n",
    "# Your code goes here\n",
    "\n",
    "# Expected output:\n",
    "# Current item: 2 previous item: 0 sum: 2\n",
    "# Current item: 6 previous item: 2 sum: 8\n",
    "# Current item: 10 previous item: 6 sum: 16\n",
    "# Current item: 14 previous item: 10 sum: 24\n",
    "# Current item: 18 previous item: 14 sum: 32\n",
    "prev = 0\n",
    "for i in mylist:\n",
    "    if prev is not None:\n",
    "        print(f'Current item: {i} previous item: {prev} sum: {prev+i}')\n",
    "    prev = i\n",
    "print('')\n",
    "mylist = [0]+mylist\n",
    "[print(f'Current item: {i} previous item: {prev} sum: {prev+i}') for prev,i in zip(mylist, mylist[1:])]\n",
    "pass"
   ]
  },
  {
   "cell_type": "markdown",
   "id": "1972fead",
   "metadata": {},
   "source": [
    "# Dictionaries"
   ]
  },
  {
   "cell_type": "markdown",
   "id": "d32ed2f7",
   "metadata": {},
   "source": [
    "### 9.\n",
    "Given the following list of dictionary, create a new dictionary  containing the salary for each name"
   ]
  },
  {
   "cell_type": "code",
   "execution_count": 21,
   "id": "6706f287",
   "metadata": {},
   "outputs": [
    {
     "data": {
      "text/plain": [
       "{'Kelly': 1000, 'Ben': 8000, 'Ruben': 1200}"
      ]
     },
     "execution_count": 21,
     "metadata": {},
     "output_type": "execute_result"
    }
   ],
   "source": [
    "sampleDict = [{\n",
    "      \"name\": \"Kelly\",\n",
    "      \"age\":25,\n",
    "      \"salary\": 1000,\n",
    "      \"city\": \"New york\"\n",
    "    },{\n",
    "      \"name\": \"Ben\",\n",
    "      \"age\":30,\n",
    "      \"salary\": 8000,\n",
    "      \"city\": \"Barcelona\"\n",
    "    },{\n",
    "      \"name\": \"Ruben\",\n",
    "      \"age\":18,\n",
    "      \"salary\": 1200,\n",
    "      \"city\": \"Sabadell\"\n",
    "    }]\n",
    "\n",
    "# Your code goes here\n",
    "\n",
    "# Expected output:\n",
    "# {'Kelly': 1000, 'Ben': 8000, 'Ruben': 1200}\n",
    "{x['name']:x['salary'] for x in sampleDict}"
   ]
  },
  {
   "cell_type": "markdown",
   "id": "0935d854",
   "metadata": {},
   "source": [
    "### 10.\n",
    "Get the subject with the minimum score on the following dictionary"
   ]
  },
  {
   "cell_type": "code",
   "execution_count": 60,
   "id": "7eb8a7ce",
   "metadata": {},
   "outputs": [
    {
     "data": {
      "text/plain": [
       "'Math'"
      ]
     },
     "execution_count": 60,
     "metadata": {},
     "output_type": "execute_result"
    }
   ],
   "source": [
    "scores = {\n",
    "  'Physics': 82,\n",
    "  'Math': 65,\n",
    "  'history': 75\n",
    "}\n",
    "\n",
    "# Your code goes here\n",
    "\n",
    "# Expected output:\n",
    "# Math\n",
    "sorted(scores, key=lambda x: scores[x])[0]"
   ]
  },
  {
   "cell_type": "markdown",
   "id": "32f32eef",
   "metadata": {},
   "source": [
    "## Loops"
   ]
  },
  {
   "cell_type": "markdown",
   "id": "205d379c",
   "metadata": {},
   "source": [
    "### 11.\n",
    "Find the average of a list of numbers. Use a for loop to iterate over all elements"
   ]
  },
  {
   "cell_type": "code",
   "execution_count": 66,
   "id": "10d2d64f",
   "metadata": {},
   "outputs": [
    {
     "name": "stdout",
     "output_type": "stream",
     "text": [
      "[5, 32, 567, 67, 98, 0, 5, 234, 6, 7, 21, 9, 32, 1]\n",
      "14\n",
      "77.42857142857143\n",
      "77.42857142857143\n",
      "77.42857142857143\n"
     ]
    }
   ],
   "source": [
    "mylist = [5, 32, 567, 67, 98, 0, 5, 234, 6, 7 ,21, 9, 32, 1]\n",
    "print(mylist)\n",
    "\n",
    "n = len(mylist)\n",
    "\n",
    "print(n)\n",
    "\n",
    "average = 0\n",
    "\n",
    "# your code goes here\n",
    "for z in mylist:\n",
    "    average+=z/n\n",
    "print(average)\n",
    "average = 0\n",
    "for z in mylist:\n",
    "    average+=z\n",
    "print(average/n)\n",
    "    \n",
    "from numpy import mean\n",
    "print(mean(mylist))"
   ]
  },
  {
   "cell_type": "markdown",
   "id": "bf4add46",
   "metadata": {},
   "source": [
    "### 12.\n",
    "Find the highest number of the list mylist"
   ]
  },
  {
   "cell_type": "code",
   "execution_count": 67,
   "id": "38405824",
   "metadata": {},
   "outputs": [
    {
     "data": {
      "text/plain": [
       "567"
      ]
     },
     "execution_count": 67,
     "metadata": {},
     "output_type": "execute_result"
    }
   ],
   "source": [
    "mylist = [5, 32, 567, 67, 98, 0, 5, 234, 6, 7 ,21, 9, 32, 1]\n",
    "max(mylist)"
   ]
  },
  {
   "cell_type": "markdown",
   "id": "d13caf22",
   "metadata": {},
   "source": [
    "### 13.\n",
    "Print multiplication table form 1 to 10"
   ]
  },
  {
   "cell_type": "code",
   "execution_count": 69,
   "id": "a29ac1f9",
   "metadata": {},
   "outputs": [
    {
     "name": "stdout",
     "output_type": "stream",
     "text": [
      "1  2 3 4 5 6 7 8 9 10 \n",
      "2  4 6 8 10 12 14 16 18 20 \n",
      "3  6 9 12 15 18 21 24 27 30 \n",
      "4  8 12 16 20 24 28 32 36 40 \n",
      "5  10 15 20 25 30 35 40 45 50 \n",
      "6  12 18 24 30 36 42 48 54 60 \n",
      "7  14 21 28 35 42 49 56 63 70 \n",
      "8  16 24 32 40 48 56 64 72 80 \n",
      "9  18 27 36 45 54 63 72 81 90 \n",
      "10  20 30 40 50 60 70 80 90 100 \n"
     ]
    }
   ],
   "source": [
    "# Your code goes here\n",
    "\n",
    "# Expected output:\n",
    "# 1  2 3 4 5 6 7 8 9 10 \n",
    "# 2  4 6 8 10 12 14 16 18 20 \n",
    "# 3  6 9 12 15 18 21 24 27 30 \n",
    "# 4  8 12 16 20 24 28 32 36 40 \n",
    "# 5  10 15 20 25 30 35 40 45 50 \n",
    "# 6  12 18 24 30 36 42 48 54 60 \n",
    "# 7  14 21 28 35 42 49 56 63 70 \n",
    "# 8  16 24 32 40 48 56 64 72 80 \n",
    "# 9  18 27 36 45 54 63 72 81 90 \n",
    "# 10 20 30 40 50 60 70 80 90 100 \n",
    "for a in range(1,11):\n",
    "    print(a, end='  ')\n",
    "    for b in range(2,11):\n",
    "        print(a*b, end=' ')\n",
    "    print()"
   ]
  },
  {
   "cell_type": "markdown",
   "id": "284653a8",
   "metadata": {},
   "source": [
    "## List Comprehensions"
   ]
  },
  {
   "cell_type": "markdown",
   "id": "38e06355",
   "metadata": {},
   "source": [
    "### 14.\n",
    "Create a list containing all possible combinations of elements between list1 and list2 in which the elements are not equal"
   ]
  },
  {
   "cell_type": "code",
   "execution_count": 27,
   "id": "18fa1a2a",
   "metadata": {},
   "outputs": [
    {
     "data": {
      "text/plain": [
       "[[10, 30],\n",
       " [10, 10],\n",
       " [10, 50],\n",
       " [20, 30],\n",
       " [20, 10],\n",
       " [20, 50],\n",
       " [30, 30],\n",
       " [30, 10],\n",
       " [30, 50]]"
      ]
     },
     "execution_count": 27,
     "metadata": {},
     "output_type": "execute_result"
    }
   ],
   "source": [
    "list1 = [10, 20, 30]\n",
    "list2 = [30, 10, 50]\n",
    "\n",
    "# Your code goes here\n",
    "\n",
    "# Expected output:\n",
    "# [[10, 30], [10, 50], [20, 30], [20, 10], [20, 50], [30, 10], [30, 50]]\n",
    "[[a,b] for a,b in product(list1, list2)]"
   ]
  },
  {
   "cell_type": "markdown",
   "id": "b7224306",
   "metadata": {},
   "source": [
    "### 15.\n",
    "Create a list that contains all the elements in list l2 which are not in list l1. Do it first using a for loop and then using list comprehensions"
   ]
  },
  {
   "cell_type": "code",
   "execution_count": 33,
   "id": "6bbda282",
   "metadata": {},
   "outputs": [
    {
     "name": "stdout",
     "output_type": "stream",
     "text": [
      "[32, 567, 67, 9, 32]\n",
      "[32, 567, 67, 9, 32]\n",
      "{32, 9, 67, 567}\n"
     ]
    }
   ],
   "source": [
    "l1 = [1, 87, 45, 21, 7, 6, 234, 5, 0, 98, 65, 5, 2]\n",
    "l2 = [5, 32, 567, 67, 98, 0, 5, 234, 6, 7 ,21, 9, 32, 1]\n",
    "\n",
    "# Your code goes here\n",
    "l3 = []\n",
    "for i in l2:\n",
    "    if i not in l1:\n",
    "        l3.append(i)\n",
    "print(l3)\n",
    "print([x for x in l2 if x not in l1])\n",
    "print(set(l2)-set(l1))"
   ]
  },
  {
   "cell_type": "markdown",
   "id": "12843491",
   "metadata": {},
   "source": [
    "## Functions"
   ]
  },
  {
   "cell_type": "markdown",
   "id": "74b9e1c0",
   "metadata": {},
   "source": [
    "### 16.\n",
    "Write a program to iterate a given list and count the occurrence of each element and create a dictionary to show the count of each element."
   ]
  },
  {
   "cell_type": "code",
   "execution_count": 81,
   "id": "846e055e",
   "metadata": {},
   "outputs": [
    {
     "name": "stdout",
     "output_type": "stream",
     "text": [
      "{11: 2, 45: 3, 8: 1, 23: 2, 89: 1}\n",
      "{11: 2, 45: 3, 8: 1, 23: 2, 89: 1}\n",
      "{11: 2, 45: 3, 8: 1, 23: 2, 89: 1}\n"
     ]
    }
   ],
   "source": [
    "sample_list = [11, 45, 8, 11, 23, 45, 23, 45, 89]\n",
    "\n",
    "# Your code goes here\n",
    "\n",
    "# Expected output:\n",
    "# {11: 2, 45: 3, 8: 1, 23: 2, 89: 1}\n",
    "out1 = dict()\n",
    "for i in sample_list:\n",
    "    out1[i] = out1.get(i,0)+1\n",
    "\n",
    "from collections import Counter\n",
    "out2=dict(Counter(sample_list))\n",
    "\n",
    "from collections import defaultdict\n",
    "out3 = defaultdict(lambda: 0)\n",
    "for i in sample_list:\n",
    "    out3[i]+=1\n",
    "out3 = dict(out3)\n",
    "\n",
    "print(out1)\n",
    "print(out2)\n",
    "print(out3)"
   ]
  },
  {
   "cell_type": "markdown",
   "id": "66e523a0",
   "metadata": {},
   "source": [
    "### 17.\n",
    "Create a function that iterates through a given list and checks if a given element exists as a key’s value in a dictionary. If not, delete it from the list. Both the list and the dictionary are passed as arguments"
   ]
  },
  {
   "cell_type": "code",
   "execution_count": 90,
   "id": "7b80eb9b",
   "metadata": {},
   "outputs": [
    {
     "data": {
      "text/plain": [
       "[47, 69, 76, 95, 97]"
      ]
     },
     "execution_count": 90,
     "metadata": {},
     "output_type": "execute_result"
    }
   ],
   "source": [
    "roll_number = [47, 64, 69, 37, 76, 83, 95, 97]\n",
    "sample_dict = {'Jhon':47, 'Emma':69, 'Kelly':76, 'Jason':97}\n",
    "\n",
    "# Your code goes here\n",
    "\n",
    "def func(l, d):\n",
    "    vals = d.values()\n",
    "    for i in l:\n",
    "        if i not in vals:\n",
    "            l.remove(i)\n",
    "# Expected output:\n",
    "# [47, 69, 76, 97]\n",
    "func(roll_number, sample_dict)\n",
    "roll_number"
   ]
  },
  {
   "cell_type": "markdown",
   "id": "8b4cfdcb",
   "metadata": {},
   "source": [
    "### 18.\n",
    "Write a function to return True if the first and last number of a given list is same. If numbers are different then return False. Try it with the following lists"
   ]
  },
  {
   "cell_type": "code",
   "execution_count": 93,
   "id": "a871dfed",
   "metadata": {},
   "outputs": [
    {
     "name": "stdout",
     "output_type": "stream",
     "text": [
      "True\n",
      "False\n"
     ]
    }
   ],
   "source": [
    "numbers_x = [10, 20, 30, 40, 10]\n",
    "numbers_y = [75, 65, 35, 75, 30]\n",
    "\n",
    "# Your code goes here\n",
    "def func(x):\n",
    "    return x[0]==x[-1]\n",
    "# Expected output for numbers_x:\n",
    "# True\n",
    "print(func(numbers_x))\n",
    "# Expected output for numbers_y:\n",
    "# False\n",
    "print(func(numbers_y))\n",
    "\n"
   ]
  },
  {
   "cell_type": "markdown",
   "id": "1c0e7f15",
   "metadata": {},
   "source": [
    "### 19.\n",
    "Factorial: The factorial of a non-negative integer $n$, denoted by $n!$, is the product of all positive integers less than or equal to $n$.  Complete the function below so that it return the factorial of n"
   ]
  },
  {
   "cell_type": "code",
   "execution_count": 7,
   "id": "695707d8",
   "metadata": {},
   "outputs": [
    {
     "data": {
      "text/plain": [
       "3628800"
      ]
     },
     "execution_count": 7,
     "metadata": {},
     "output_type": "execute_result"
    }
   ],
   "source": [
    "def factorial(n):\n",
    "    if n in (0,1):\n",
    "        return n\n",
    "    else:\n",
    "        return n * factorial(n-1)\n",
    "factorial(10)"
   ]
  },
  {
   "cell_type": "markdown",
   "id": "81bfec6d",
   "metadata": {},
   "source": [
    "### 20.\n",
    "The Fibonacci Sequence is the series of numbers: 0, 1, 1, 2, 3, 5, 8, 13, 21, 34, ...\n",
    "\n",
    "The general rule to compute the sequence is very simple: The next number is found by adding up the two numbers before it and fib1(0) = 0 and fib1(1) = 1. Complete the function below. "
   ]
  },
  {
   "cell_type": "code",
   "execution_count": 1,
   "id": "831989ea",
   "metadata": {},
   "outputs": [
    {
     "data": {
      "text/plain": [
       "[(0, 0),\n",
       " (1, 1),\n",
       " (2, 1),\n",
       " (3, 2),\n",
       " (4, 3),\n",
       " (5, 5),\n",
       " (6, 8),\n",
       " (7, 13),\n",
       " (8, 21),\n",
       " (9, 34),\n",
       " (10, 55),\n",
       " (11, 89),\n",
       " (12, 144),\n",
       " (13, 233),\n",
       " (14, 377)]"
      ]
     },
     "execution_count": 1,
     "metadata": {},
     "output_type": "execute_result"
    }
   ],
   "source": [
    "def fib1(n):\n",
    "    fib = 0\n",
    "    # Your code goes here\n",
    "    if n in (0, 1):\n",
    "        return n\n",
    "    else:\n",
    "        return fib1(n-1) + fib1(n-2)\n",
    "\n",
    "[(x,fib1(x)) for x in range(15)]"
   ]
  },
  {
   "cell_type": "code",
   "execution_count": null,
   "id": "831b2160",
   "metadata": {},
   "outputs": [],
   "source": []
  },
  {
   "cell_type": "code",
   "execution_count": 109,
   "id": "98c1b3b6",
   "metadata": {},
   "outputs": [
    {
     "data": {
      "text/plain": [
       "1"
      ]
     },
     "execution_count": 109,
     "metadata": {},
     "output_type": "execute_result"
    }
   ],
   "source": []
  }
 ],
 "metadata": {
  "kernelspec": {
   "display_name": "Python 3",
   "language": "python",
   "name": "python3"
  },
  "language_info": {
   "codemirror_mode": {
    "name": "ipython",
    "version": 3
   },
   "file_extension": ".py",
   "mimetype": "text/x-python",
   "name": "python",
   "nbconvert_exporter": "python",
   "pygments_lexer": "ipython3",
   "version": "3.9.5"
  }
 },
 "nbformat": 4,
 "nbformat_minor": 5
}

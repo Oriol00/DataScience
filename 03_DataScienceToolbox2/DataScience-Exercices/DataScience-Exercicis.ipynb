{
 "cells": [
  {
   "cell_type": "markdown",
   "metadata": {},
   "source": [
    "# Exercises\n"
   ]
  },
  {
   "cell_type": "markdown",
   "metadata": {},
   "source": [
    "##  Pandas\n",
    "\n",
    "**MovieLens database**"
   ]
  },
  {
   "cell_type": "code",
   "execution_count": 1,
   "metadata": {
    "scrolled": true
   },
   "outputs": [
    {
     "name": "stdout",
     "output_type": "stream",
     "text": [
      "    user_id  movie_id  rating   timestamp gender  age  occupation    zip  \\\n",
      "0         1      1193       5   978300760      F    1          10  48067   \n",
      "1         2      1193       5   978298413      M   56          16  70072   \n",
      "2        12      1193       4   978220179      M   25          12  32793   \n",
      "3        15      1193       4   978199279      M   25           7  22903   \n",
      "4        17      1193       5   978158471      M   50           1  95350   \n",
      "5        18      1193       4   978156168      F   18           3  95825   \n",
      "6        19      1193       5   982730936      M    1          10  48073   \n",
      "7        24      1193       5   978136709      F   25           7  10023   \n",
      "8        28      1193       3   978125194      F   25           1  14607   \n",
      "9        33      1193       5   978557765      M   45           3  55421   \n",
      "10       39      1193       5   978043535      M   18           4  61820   \n",
      "11       42      1193       3   978038981      M   25           8  24502   \n",
      "12       44      1193       4   978018995      M   45          17  98052   \n",
      "13       47      1193       4   977978345      M   18           4  94305   \n",
      "14       48      1193       4   977975061      M   25           4  92107   \n",
      "15       49      1193       4   978813972      M   18          12  77084   \n",
      "16       53      1193       5   977946400      M   25           0  96931   \n",
      "17       54      1193       5   977944039      M   50           1  56723   \n",
      "18       58      1193       5   977933866      M   25           2  30303   \n",
      "19       59      1193       4   977934292      F   50           1  55413   \n",
      "20       62      1193       4   977968584      F   35           3  98105   \n",
      "21       80      1193       4   977786172      M   56           1  49327   \n",
      "22       81      1193       5   977785864      F   25           0  60640   \n",
      "23       88      1193       5   977694161      F   45           1  02476   \n",
      "24       89      1193       5   977683596      F   56           9  85749   \n",
      "25       95      1193       5   977626632      M   45           0  98201   \n",
      "26       96      1193       3   977621789      F   25          16  78028   \n",
      "27       99      1193       2   982791053      F    1          10  19390   \n",
      "28      102      1193       5  1040737607      M   35          19  20871   \n",
      "29      104      1193       2   977546620      M   25          12  00926   \n",
      "\n",
      "                                     title genres  \n",
      "0   One Flew Over the Cuckoo's Nest (1975)  Drama  \n",
      "1   One Flew Over the Cuckoo's Nest (1975)  Drama  \n",
      "2   One Flew Over the Cuckoo's Nest (1975)  Drama  \n",
      "3   One Flew Over the Cuckoo's Nest (1975)  Drama  \n",
      "4   One Flew Over the Cuckoo's Nest (1975)  Drama  \n",
      "5   One Flew Over the Cuckoo's Nest (1975)  Drama  \n",
      "6   One Flew Over the Cuckoo's Nest (1975)  Drama  \n",
      "7   One Flew Over the Cuckoo's Nest (1975)  Drama  \n",
      "8   One Flew Over the Cuckoo's Nest (1975)  Drama  \n",
      "9   One Flew Over the Cuckoo's Nest (1975)  Drama  \n",
      "10  One Flew Over the Cuckoo's Nest (1975)  Drama  \n",
      "11  One Flew Over the Cuckoo's Nest (1975)  Drama  \n",
      "12  One Flew Over the Cuckoo's Nest (1975)  Drama  \n",
      "13  One Flew Over the Cuckoo's Nest (1975)  Drama  \n",
      "14  One Flew Over the Cuckoo's Nest (1975)  Drama  \n",
      "15  One Flew Over the Cuckoo's Nest (1975)  Drama  \n",
      "16  One Flew Over the Cuckoo's Nest (1975)  Drama  \n",
      "17  One Flew Over the Cuckoo's Nest (1975)  Drama  \n",
      "18  One Flew Over the Cuckoo's Nest (1975)  Drama  \n",
      "19  One Flew Over the Cuckoo's Nest (1975)  Drama  \n",
      "20  One Flew Over the Cuckoo's Nest (1975)  Drama  \n",
      "21  One Flew Over the Cuckoo's Nest (1975)  Drama  \n",
      "22  One Flew Over the Cuckoo's Nest (1975)  Drama  \n",
      "23  One Flew Over the Cuckoo's Nest (1975)  Drama  \n",
      "24  One Flew Over the Cuckoo's Nest (1975)  Drama  \n",
      "25  One Flew Over the Cuckoo's Nest (1975)  Drama  \n",
      "26  One Flew Over the Cuckoo's Nest (1975)  Drama  \n",
      "27  One Flew Over the Cuckoo's Nest (1975)  Drama  \n",
      "28  One Flew Over the Cuckoo's Nest (1975)  Drama  \n",
      "29  One Flew Over the Cuckoo's Nest (1975)  Drama  \n"
     ]
    }
   ],
   "source": [
    "import pandas as pd\n",
    "\n",
    "users_data =  '../ml-1m/users.dat'\n",
    "ratings_data = '../ml-1m/ratings.dat'\n",
    "movies_data =  '../ml-1m/movies.dat'\n",
    "\n",
    "\n",
    "unames = ['user_id', 'gender', 'age', 'occupation', 'zip']\n",
    "users = pd.read_csv(users_data, sep='::', header=None, names=unames, engine='python',encoding=\"utf\")\n",
    "rnames = ['user_id', 'movie_id', 'rating', 'timestamp']\n",
    "ratings = pd.read_csv(ratings_data, sep='::', header=None, names=rnames,  engine='python',encoding=\"utf\")\n",
    "mnames = ['movie_id', 'title', 'genres']\n",
    "movies = pd.read_csv(movies_data, sep='::', header=None, names=mnames,  engine='python',encoding=\"latin1\")\n",
    "\n",
    "data = pd.merge(pd.merge(ratings, users), movies)\n",
    "print (data[:30])\n"
   ]
  },
  {
   "cell_type": "markdown",
   "metadata": {},
   "source": [
    "1- Filter films that have received at least 250 ratings:"
   ]
  },
  {
   "cell_type": "code",
   "execution_count": 6,
   "metadata": {},
   "outputs": [
    {
     "data": {
      "text/html": [
       "<div>\n",
       "<style scoped>\n",
       "    .dataframe tbody tr th:only-of-type {\n",
       "        vertical-align: middle;\n",
       "    }\n",
       "\n",
       "    .dataframe tbody tr th {\n",
       "        vertical-align: top;\n",
       "    }\n",
       "\n",
       "    .dataframe thead th {\n",
       "        text-align: right;\n",
       "    }\n",
       "</style>\n",
       "<table border=\"1\" class=\"dataframe\">\n",
       "  <thead>\n",
       "    <tr style=\"text-align: right;\">\n",
       "      <th></th>\n",
       "      <th>user_id</th>\n",
       "      <th>movie_id</th>\n",
       "      <th>rating</th>\n",
       "      <th>timestamp</th>\n",
       "      <th>gender</th>\n",
       "      <th>age</th>\n",
       "      <th>occupation</th>\n",
       "      <th>zip</th>\n",
       "      <th>title</th>\n",
       "      <th>genres</th>\n",
       "    </tr>\n",
       "  </thead>\n",
       "  <tbody>\n",
       "    <tr>\n",
       "      <th>0</th>\n",
       "      <td>1</td>\n",
       "      <td>1193</td>\n",
       "      <td>5</td>\n",
       "      <td>978300760</td>\n",
       "      <td>F</td>\n",
       "      <td>1</td>\n",
       "      <td>10</td>\n",
       "      <td>48067</td>\n",
       "      <td>One Flew Over the Cuckoo's Nest (1975)</td>\n",
       "      <td>Drama</td>\n",
       "    </tr>\n",
       "    <tr>\n",
       "      <th>1</th>\n",
       "      <td>2</td>\n",
       "      <td>1193</td>\n",
       "      <td>5</td>\n",
       "      <td>978298413</td>\n",
       "      <td>M</td>\n",
       "      <td>56</td>\n",
       "      <td>16</td>\n",
       "      <td>70072</td>\n",
       "      <td>One Flew Over the Cuckoo's Nest (1975)</td>\n",
       "      <td>Drama</td>\n",
       "    </tr>\n",
       "    <tr>\n",
       "      <th>2</th>\n",
       "      <td>12</td>\n",
       "      <td>1193</td>\n",
       "      <td>4</td>\n",
       "      <td>978220179</td>\n",
       "      <td>M</td>\n",
       "      <td>25</td>\n",
       "      <td>12</td>\n",
       "      <td>32793</td>\n",
       "      <td>One Flew Over the Cuckoo's Nest (1975)</td>\n",
       "      <td>Drama</td>\n",
       "    </tr>\n",
       "    <tr>\n",
       "      <th>3</th>\n",
       "      <td>15</td>\n",
       "      <td>1193</td>\n",
       "      <td>4</td>\n",
       "      <td>978199279</td>\n",
       "      <td>M</td>\n",
       "      <td>25</td>\n",
       "      <td>7</td>\n",
       "      <td>22903</td>\n",
       "      <td>One Flew Over the Cuckoo's Nest (1975)</td>\n",
       "      <td>Drama</td>\n",
       "    </tr>\n",
       "    <tr>\n",
       "      <th>4</th>\n",
       "      <td>17</td>\n",
       "      <td>1193</td>\n",
       "      <td>5</td>\n",
       "      <td>978158471</td>\n",
       "      <td>M</td>\n",
       "      <td>50</td>\n",
       "      <td>1</td>\n",
       "      <td>95350</td>\n",
       "      <td>One Flew Over the Cuckoo's Nest (1975)</td>\n",
       "      <td>Drama</td>\n",
       "    </tr>\n",
       "  </tbody>\n",
       "</table>\n",
       "</div>"
      ],
      "text/plain": [
       "   user_id  movie_id  rating  timestamp gender  age  occupation    zip  \\\n",
       "0        1      1193       5  978300760      F    1          10  48067   \n",
       "1        2      1193       5  978298413      M   56          16  70072   \n",
       "2       12      1193       4  978220179      M   25          12  32793   \n",
       "3       15      1193       4  978199279      M   25           7  22903   \n",
       "4       17      1193       5  978158471      M   50           1  95350   \n",
       "\n",
       "                                    title genres  \n",
       "0  One Flew Over the Cuckoo's Nest (1975)  Drama  \n",
       "1  One Flew Over the Cuckoo's Nest (1975)  Drama  \n",
       "2  One Flew Over the Cuckoo's Nest (1975)  Drama  \n",
       "3  One Flew Over the Cuckoo's Nest (1975)  Drama  \n",
       "4  One Flew Over the Cuckoo's Nest (1975)  Drama  "
      ]
     },
     "execution_count": 6,
     "metadata": {},
     "output_type": "execute_result"
    }
   ],
   "source": [
    "rev_by_movie = ratings.groupby('movie_id')['user_id'].count()\n",
    "data_filtered = data[data['movie_id'].map(rev_by_movie)>250]\n",
    "data_filtered.head()"
   ]
  },
  {
   "cell_type": "markdown",
   "metadata": {},
   "source": [
    "**Using the previous filtered films**:\n",
    "\n",
    "2- Obtain the mean ratings for each movie grouped by gender"
   ]
  },
  {
   "cell_type": "code",
   "execution_count": 32,
   "metadata": {},
   "outputs": [
    {
     "data": {
      "text/plain": [
       "movie_id  title                       gender\n",
       "1         Toy Story (1995)            F         4.187817\n",
       "                                      M         4.130552\n",
       "2         Jumanji (1995)              F         3.278409\n",
       "                                      M         3.175238\n",
       "3         Grumpier Old Men (1995)     F         3.073529\n",
       "                                                  ...   \n",
       "3948      Meet the Parents (2000)     M         3.641838\n",
       "3949      Requiem for a Dream (2000)  F         3.950000\n",
       "                                      M         4.174107\n",
       "3952      Contender, The (2000)       F         3.761905\n",
       "                                      M         3.787986\n",
       "Name: rating, Length: 2428, dtype: float64"
      ]
     },
     "execution_count": 32,
     "metadata": {},
     "output_type": "execute_result"
    }
   ],
   "source": [
    "### Your Code HERE\n",
    "rating_by_gender=data_filtered.groupby(['movie_id', 'title','gender']).rating.mean()\n",
    "rating_by_gender"
   ]
  },
  {
   "cell_type": "markdown",
   "metadata": {},
   "source": [
    "**Using the previous filtered films:**\n",
    "\n",
    "3- Show the films most valued by women."
   ]
  },
  {
   "cell_type": "code",
   "execution_count": 37,
   "metadata": {},
   "outputs": [
    {
     "data": {
      "text/plain": [
       "movie_id  title                                                   gender\n",
       "745       Close Shave, A (1995)                                   F         4.644444\n",
       "1148      Wrong Trousers, The (1993)                              F         4.588235\n",
       "922       Sunset Blvd. (a.k.a. Sunset Boulevard) (1950)           F         4.572650\n",
       "720       Wallace & Gromit: The Best of Aardman Animation (1996)  F         4.563107\n",
       "527       Schindler's List (1993)                                 F         4.562602\n",
       "318       Shawshank Redemption, The (1994)                        F         4.539075\n",
       "1223      Grand Day Out, A (1992)                                 F         4.537879\n",
       "1207      To Kill a Mockingbird (1962)                            F         4.536667\n",
       "3429      Creature Comforts (1990)                                F         4.513889\n",
       "50        Usual Suspects, The (1995)                              F         4.513317\n",
       "Name: rating, dtype: float64"
      ]
     },
     "execution_count": 37,
     "metadata": {},
     "output_type": "execute_result"
    }
   ],
   "source": [
    "### Your Code HERE\n",
    "# Using the same object as before\n",
    "rating_by_gender[rating_by_gender.index.map(lambda g: g[-1]=='F')].sort_values(ascending=False)[:10]\n",
    "\n",
    "# Redoing the object\n",
    "data_filtered[data_filtered['gender']=='F'].groupby(['movie_id', 'title','gender']).rating.mean().sort_values(ascending=False)[:10]"
   ]
  },
  {
   "cell_type": "markdown",
   "metadata": {},
   "source": [
    "**Using the previous filtered films:**\n",
    "\n",
    "4- Now we wonder which movies are rated more differently between men and women. \n",
    "    * Which films have more different rating and are more highly valued by women? \n",
    "    * And the films preferred by men which doesn't liked women? \n",
    "    * What are the films that have generated the most discordant ratings, regardless of gender?"
   ]
  },
  {
   "cell_type": "code",
   "execution_count": 58,
   "metadata": {},
   "outputs": [
    {
     "name": "stdout",
     "output_type": "stream",
     "text": [
      "Which films have more different rating and are more highly valued by women?\n",
      "      movie_id                                              title  \\\n",
      "3067      3136                       James Dean Story, The (1957)   \n",
      "679        687                                Country Life (1994)   \n",
      "2754      2823  Spiders, The (Die Spinnen, 1. Teil: Der Golden...   \n",
      "766        776                                   Babyfever (1994)   \n",
      "3572      3641                           Woman of Paris, A (1923)   \n",
      "\n",
      "             genres  men_rating  women_rating  diff_rating       std  \n",
      "3067    Documentary    1.000000      4.000000     3.000000  4.000000  \n",
      "679   Drama|Romance    2.000000      5.000000     3.000000  5.000000  \n",
      "2754   Action|Drama    1.000000      4.000000     3.000000  4.000000  \n",
      "766    Comedy|Drama    1.000000      3.666667     2.666667  3.666667  \n",
      "3572          Drama    2.428571      5.000000     2.571429  5.000000  \n",
      "\n",
      "\n",
      "And the films preferred by men which doesn't liked women?\n",
      "     movie_id                                       title             genres  \\\n",
      "675       682  Tigrero: A Film That Was Never Made (1994)  Documentary|Drama   \n",
      "136       138                      Neon Bible, The (1995)              Drama   \n",
      "261       264                            Enfer, L' (1994)              Drama   \n",
      "750       760                           Stalingrad (1993)                War   \n",
      "863       874          Killer: A Journal of Murder (1995)        Crime|Drama   \n",
      "\n",
      "     men_rating  women_rating  diff_rating  std  \n",
      "675    4.333333           1.0    -3.333333  1.0  \n",
      "136    4.000000           1.0    -3.000000  1.0  \n",
      "261    3.750000           1.0    -2.750000  1.0  \n",
      "750    3.593750           1.0    -2.593750  1.0  \n",
      "863    3.428571           1.0    -2.428571  1.0  \n",
      "\n",
      "\n",
      "What are the films that have generated the most discordant ratings, regardless of gender?\n",
      "      movie_id                                              title  \\\n",
      "52          53                                    Lamerica (1994)   \n",
      "3747      3817   Other Side of Sunday, The (Søndagsengler) (1996)   \n",
      "1396      1420  Message to Love: The Isle of Wight Festival (1...   \n",
      "2263      2332                                       Belly (1998)   \n",
      "2060      2129                       Saltmen of Tibet, The (1997)   \n",
      "\n",
      "            genres  men_rating  women_rating  diff_rating  std  \n",
      "52           Drama    4.666667           5.0     0.333333  5.0  \n",
      "3747  Comedy|Drama    2.928571           5.0     2.071429  5.0  \n",
      "1396   Documentary    3.833333           5.0     1.166667  5.0  \n",
      "2263   Crime|Drama    3.000000           5.0     2.000000  5.0  \n",
      "2060   Documentary    3.571429           5.0     1.428571  5.0  \n"
     ]
    }
   ],
   "source": [
    "### Your Code HERE\n",
    "is_men = data['gender']=='M'\n",
    "is_women = data['gender']=='F'\n",
    "\n",
    "rating_by_men = data[is_men].groupby('movie_id').rating.mean()\n",
    "rating_by_women = data[is_women].groupby('movie_id').rating.mean()\n",
    "std = data[is_women].groupby('movie_id')['rating'].mean()\n",
    "\n",
    "movies['men_rating'] = movies['movie_id'].map(rating_by_men)\n",
    "movies['women_rating'] = movies['movie_id'].map(rating_by_women)\n",
    "movies['std'] = movies['movie_id'].map(std)\n",
    "\n",
    "movies['diff_rating'] = movies['women_rating']-movies['men_rating']\n",
    "\n",
    "print('Which films have more different rating and are more highly valued by women?')\n",
    "print(movies.sort_values('diff_rating', ascending=False).head())\n",
    "\n",
    "print('\\n\\nAnd the films preferred by men which doesn\\'t liked women?')\n",
    "print(movies.sort_values('diff_rating', ascending=True).head())\n",
    "\n",
    "print(\"\\n\\nWhat are the films that have generated the most discordant ratings, regardless of gender?\")\n",
    "print(movies.sort_values('std', ascending=False).head())\n"
   ]
  },
  {
   "cell_type": "markdown",
   "metadata": {},
   "source": [
    "5- Calculate the average rating of each user. "
   ]
  },
  {
   "cell_type": "code",
   "execution_count": null,
   "metadata": {},
   "outputs": [],
   "source": [
    "### Your Code HERE"
   ]
  },
  {
   "cell_type": "markdown",
   "metadata": {},
   "source": [
    "6- What is the highest rated movie in average that have received at least 250 ratings?"
   ]
  },
  {
   "cell_type": "code",
   "execution_count": null,
   "metadata": {},
   "outputs": [],
   "source": [
    "### Your Code HERE"
   ]
  },
  {
   "cell_type": "markdown",
   "metadata": {},
   "source": [
    "7- Define a function called  <b>top_movies</b> that given an user and a number n, it returns the top n movies for this user.\n",
    "\n"
   ]
  },
  {
   "cell_type": "code",
   "execution_count": 72,
   "metadata": {},
   "outputs": [
    {
     "data": {
      "text/plain": [
       "0        One Flew Over the Cuckoo's Nest (1975)\n",
       "50759                              Dumbo (1941)\n",
       "41626                          Toy Story (1995)\n",
       "19503                         Awakenings (1990)\n",
       "43703                           Rain Man (1988)\n",
       "25853                   Schindler's List (1993)\n",
       "37339                         Cinderella (1950)\n",
       "15859                Sound of Music, The (1965)\n",
       "28501                         Pocahontas (1995)\n",
       "49748                       Mary Poppins (1964)\n",
       "Name: title, dtype: object"
      ]
     },
     "execution_count": 72,
     "metadata": {},
     "output_type": "execute_result"
    }
   ],
   "source": [
    "def top_movies(user, n=10):\n",
    "### Your Code HERE\n",
    "    return data[data['user_id']==user].sort_values('rating', ascending=False)[:n]['title']\n",
    "top_movies(users.iloc[0]['user_id'])"
   ]
  },
  {
   "cell_type": "code",
   "execution_count": null,
   "metadata": {},
   "outputs": [],
   "source": []
  },
  {
   "cell_type": "markdown",
   "metadata": {},
   "source": [
    "**Data from CSV**\n",
    "\n",
    "8- Read data from csv file: `ma-ba.csv`. Count the number of times `Barça` wins `Madrid` and compute the stadistics of % win, % lose and % draw."
   ]
  },
  {
   "cell_type": "code",
   "execution_count": null,
   "metadata": {},
   "outputs": [],
   "source": [
    "### Your Code HERE"
   ]
  },
  {
   "cell_type": "markdown",
   "metadata": {},
   "source": [
    "#### !!! Compare your results with the csv files located in results.zip !!!"
   ]
  }
 ],
 "metadata": {
  "kernelspec": {
   "display_name": "Python 3 (ipykernel)",
   "language": "python",
   "name": "python3"
  },
  "language_info": {
   "codemirror_mode": {
    "name": "ipython",
    "version": 3
   },
   "file_extension": ".py",
   "mimetype": "text/x-python",
   "name": "python",
   "nbconvert_exporter": "python",
   "pygments_lexer": "ipython3",
   "version": "3.9.5"
  }
 },
 "nbformat": 4,
 "nbformat_minor": 4
}

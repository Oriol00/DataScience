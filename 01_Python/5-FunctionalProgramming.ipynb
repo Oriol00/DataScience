{
 "cells": [
  {
   "cell_type": "markdown",
   "id": "9f504546",
   "metadata": {},
   "source": [
    "# Functional Programming\n",
    "\n",
    "* lambda\n",
    "\n",
    "* map\n",
    "\n",
    "* filter\n",
    "\n",
    "* reduce\n",
    "\n",
    "* list comprehensions "
   ]
  },
  {
   "cell_type": "markdown",
   "id": "40d0c180",
   "metadata": {},
   "source": [
    "## Lambda\n",
    "\n",
    "Function without a name. Useful when you want to declare a function online, usally for using it as a parameter for another function."
   ]
  },
  {
   "cell_type": "code",
   "execution_count": 1,
   "id": "223ebf09",
   "metadata": {},
   "outputs": [
    {
     "data": {
      "text/plain": [
       "True"
      ]
     },
     "execution_count": 1,
     "metadata": {},
     "output_type": "execute_result"
    }
   ],
   "source": [
    "def old_add (a,b):\n",
    "    return a+b\n",
    "\n",
    "new_add = lambda a, b: a + b\n",
    "\n",
    "new_add(4,5) == 4 + 5  and new_add(4,5) == old_add(4,5)\n"
   ]
  },
  {
   "cell_type": "code",
   "execution_count": 2,
   "id": "2ece852f",
   "metadata": {},
   "outputs": [],
   "source": [
    "? sorted"
   ]
  },
  {
   "cell_type": "code",
   "execution_count": 3,
   "id": "d3bcc75d",
   "metadata": {},
   "outputs": [
    {
     "name": "stdout",
     "output_type": "stream",
     "text": [
      "[('b', 6), ('a', 10), ('d', 0), ('c', 4)]\n",
      "[('a', 10), ('b', 6), ('c', 4), ('d', 0)]\n",
      "[('d', 0), ('c', 4), ('b', 6), ('a', 10)]\n"
     ]
    }
   ],
   "source": [
    "unsorted = [('b', 6), ('a', 10), ('d', 0), ('c', 4)]\n",
    "print(unsorted)\n",
    "print(sorted(unsorted, key=lambda x: x[0])) # Sort using the first element of the tupple\n",
    "print(sorted(unsorted, key=lambda x: x[1])) # Sort using the second element of the tupple"
   ]
  },
  {
   "cell_type": "markdown",
   "id": "87c4cd1b",
   "metadata": {},
   "source": [
    "### Exercices\n",
    "Create a lambda function that takes 3 arguments and return the sum of the 3 arguments"
   ]
  },
  {
   "cell_type": "code",
   "execution_count": 6,
   "id": "1ccae986",
   "metadata": {},
   "outputs": [
    {
     "data": {
      "text/plain": [
       "True"
      ]
     },
     "execution_count": 6,
     "metadata": {},
     "output_type": "execute_result"
    }
   ],
   "source": [
    "# Your code goes here\n",
    "func = lambda a, b, c: a+b+c\n",
    "func(1,2,3) == 1+2+3"
   ]
  },
  {
   "cell_type": "markdown",
   "id": "e648aa85",
   "metadata": {},
   "source": [
    "Using sorted() function and lambda sort the words in the list based on their second letter from a to z."
   ]
  },
  {
   "cell_type": "code",
   "execution_count": 5,
   "id": "cc64ec62",
   "metadata": {},
   "outputs": [
    {
     "name": "stdout",
     "output_type": "stream",
     "text": [
      "['rabbit', 'marten', 'whale', 'chipmunk', 'sheep', 'goose', 'fox', 'otter']\n"
     ]
    }
   ],
   "source": [
    "unsorted=[\"otter\", \"whale\", \"goose\", \"chipmunk\", \"fox\", \"sheep\", \"rabbit\", \"marten\"]\n",
    "\n",
    "# Your code goes here\n",
    "sorted_list = sorted(unsorted, key=lambda x: x[1])\n",
    "\n",
    "print(sorted_list)\n",
    "\n",
    "# Expected output:\n",
    "# ['rabbit', 'marten', 'whale', 'chipmunk', 'sheep', 'goose', 'fox', 'otter']\n"
   ]
  },
  {
   "cell_type": "markdown",
   "id": "a181e925",
   "metadata": {},
   "source": [
    "## Map\n",
    "\n",
    "Takes a function and a collection of values as a parameters. Exectutes the function in each element of the list. Useful when you want to use the functional pattern: map-reduce, normally when you wnat to process collections of data."
   ]
  },
  {
   "cell_type": "code",
   "execution_count": 4,
   "id": "ddfa2e3f",
   "metadata": {},
   "outputs": [
    {
     "name": "stdout",
     "output_type": "stream",
     "text": [
      "[11, 12, 13, 14, 15]\n",
      "[21, 22, 23, 24, 25]\n"
     ]
    }
   ],
   "source": [
    "values = [1, 2, 3, 4, 5]\n",
    "# Note: We convert the returned map object to\n",
    "# a list data structure.\n",
    "\n",
    "add_10 = list(map(lambda x: x + 10, values))\n",
    "add_20 = list(map(lambda x: x + 20, values))\n",
    "print(add_10)\n",
    "print (add_20)\n"
   ]
  },
  {
   "cell_type": "code",
   "execution_count": 5,
   "id": "a677f60c",
   "metadata": {},
   "outputs": [
    {
     "data": {
      "text/plain": [
       "[1.0, 1.4142135623730951, 1.7320508075688772, 2.0, 2.23606797749979]"
      ]
     },
     "execution_count": 5,
     "metadata": {},
     "output_type": "execute_result"
    }
   ],
   "source": [
    "import math\n",
    "list(map(math.sqrt,values))"
   ]
  },
  {
   "cell_type": "markdown",
   "id": "e543ffe5",
   "metadata": {},
   "source": [
    "### Exercice\n",
    "#### 1.\n",
    "Return a list which takes each item to the power of 3. Use map and lambda (hint: use pow function)"
   ]
  },
  {
   "cell_type": "code",
   "execution_count": 7,
   "id": "b413fae9",
   "metadata": {},
   "outputs": [
    {
     "name": "stdout",
     "output_type": "stream",
     "text": [
      "[0, 1, 2, 3, 4]\n"
     ]
    },
    {
     "data": {
      "text/plain": [
       "[0, 1, 8, 27, 64]"
      ]
     },
     "execution_count": 7,
     "metadata": {},
     "output_type": "execute_result"
    }
   ],
   "source": [
    "mylist = list(range(5))\n",
    "print(mylist)\n",
    "\n",
    "# Your code goes here\n",
    "[x**3 for x in mylist]\n",
    "# Expected output:\n",
    "# [0, 1, 8, 27, 64]"
   ]
  },
  {
   "cell_type": "markdown",
   "id": "8d993f66",
   "metadata": {},
   "source": [
    "#### 2.\n",
    "Add two lists using map and lambda"
   ]
  },
  {
   "cell_type": "code",
   "execution_count": 10,
   "id": "4b3b68d1",
   "metadata": {},
   "outputs": [
    {
     "data": {
      "text/plain": [
       "[5, 7, 9]"
      ]
     },
     "execution_count": 10,
     "metadata": {},
     "output_type": "execute_result"
    }
   ],
   "source": [
    "numbers1 = [1, 2, 3]\n",
    "numbers2 = [4, 5, 6]\n",
    "\n",
    "# Your code goes here\n",
    "list(map(lambda a, b: a+b, numbers1, numbers2))\n",
    "# Expected output:\n",
    "# [5, 7, 9]"
   ]
  },
  {
   "cell_type": "code",
   "execution_count": null,
   "id": "a92a8294",
   "metadata": {},
   "outputs": [],
   "source": []
  },
  {
   "cell_type": "markdown",
   "id": "d5e6c21d",
   "metadata": {},
   "source": [
    "## Filter\n",
    "Takes a boolen function and a collection of values as a parameters. Executes the boolean function to each value in the collection and return those of them that result is true. Useful for keep values that checks a certain test.\n"
   ]
  },
  {
   "cell_type": "code",
   "execution_count": 6,
   "id": "092206f5",
   "metadata": {},
   "outputs": [
    {
     "name": "stdout",
     "output_type": "stream",
     "text": [
      "[2, 4, 6, 8, 10]\n",
      "[1, 3, 5, 7, 9]\n"
     ]
    }
   ],
   "source": [
    "values = [1, 2, 3, 4, 5, 6, 7, 8, 9, 10]\n",
    "\n",
    "# Note: We convert the returned filter object to\n",
    "# a list data structure.\n",
    "even = list(filter(lambda x: x % 2 == 0, values))\n",
    "odd = list(filter(lambda x: x % 2 == 1, values))\n",
    "\n",
    "print(even)\n",
    "\n",
    "print(odd)"
   ]
  },
  {
   "cell_type": "markdown",
   "id": "070f10d8",
   "metadata": {},
   "source": [
    "### Exercices\n",
    "#### 1.\n",
    "Filter the elements that are lower than five"
   ]
  },
  {
   "cell_type": "code",
   "execution_count": 13,
   "id": "9f80768e",
   "metadata": {},
   "outputs": [
    {
     "name": "stdout",
     "output_type": "stream",
     "text": [
      "[0, 1, 2, 3, 4, 5, 6, 7, 8, 9]\n"
     ]
    },
    {
     "data": {
      "text/plain": [
       "[0, 1, 2, 3, 4]"
      ]
     },
     "execution_count": 13,
     "metadata": {},
     "output_type": "execute_result"
    }
   ],
   "source": [
    "mylist = list(range(10))\n",
    "print(mylist)\n",
    "\n",
    "# Your code goes here\n",
    "list(filter(lambda x: x<5, mylist))\n",
    "# Expected output:\n",
    "# [0, 1, 2, 3, 4]"
   ]
  },
  {
   "cell_type": "markdown",
   "id": "63da8e9d",
   "metadata": {},
   "source": [
    "## Reduce\n",
    "\n",
    "Takes a function with two parameters, one can be ignored, and returns a value which is an operation between the two parameters. It is useful to sum up the results of a collection aplying a function.\n"
   ]
  },
  {
   "cell_type": "code",
   "execution_count": 7,
   "id": "a5aceab4",
   "metadata": {},
   "outputs": [
    {
     "name": "stdout",
     "output_type": "stream",
     "text": [
      "10\n"
     ]
    }
   ],
   "source": [
    "from functools import reduce\n",
    "\n",
    "values = [1, 2, 3, 4]\n",
    "\n",
    "summed = reduce(lambda a, b: a + b, values)\n",
    "print(summed)\n"
   ]
  },
  {
   "cell_type": "markdown",
   "id": "457e97db",
   "metadata": {},
   "source": [
    "Reduce can take an optional third parameter, the initializer.\n",
    "Now you understand how initializer works, let’s look at the following example:\n",
    "Imagine we want to count the number of odd numbers in a list:"
   ]
  },
  {
   "cell_type": "code",
   "execution_count": 31,
   "id": "1f057011",
   "metadata": {},
   "outputs": [
    {
     "name": "stdout",
     "output_type": "stream",
     "text": [
      "4\n",
      "4\n"
     ]
    }
   ],
   "source": [
    "values = [22, 4, 12, 43, 19, 71, 20] \n",
    "\n",
    "# Using for loop, the imperative way \n",
    "count = 0\n",
    "for number in values:\n",
    "    if number % 2 == 0: \n",
    "        count += 1\n",
    "print(count) \n",
    "\n",
    "\n",
    "# Using reduce() with initializer \n",
    "from functools import reduce\n",
    "count = reduce( \n",
    "    lambda acc, num: acc+1 if num % 2 == 0 else acc, \n",
    "    values, \n",
    "    0 # Initializer \n",
    "    )\n",
    "print(count) "
   ]
  },
  {
   "cell_type": "markdown",
   "id": "91a2fd55",
   "metadata": {},
   "source": [
    "Let’s zoom into the predicate further:\n",
    "From the lambda function above:\n",
    "- If the number is even, the incremented acc is passed to the next iteration\n",
    "- Else, return the current value of acc\n",
    "Don’t forget that the value of the first argument ( acc in this example) of the predicate will always be the value returned from the previous iteration!"
   ]
  },
  {
   "cell_type": "markdown",
   "id": "bd5ba2ef",
   "metadata": {},
   "source": [
    "### Exercices\n",
    "Use lambda and reduce to count the number of elements in values which are odd"
   ]
  },
  {
   "cell_type": "code",
   "execution_count": 40,
   "id": "95cc8602",
   "metadata": {},
   "outputs": [
    {
     "name": "stdout",
     "output_type": "stream",
     "text": [
      "[0, 1, 2, 3, 4, 5, 6, 7, 8]\n"
     ]
    }
   ],
   "source": [
    "from functools import reduce\n",
    "\n",
    "values = list(range(9))\n",
    "print(values)\n",
    "\n",
    "# Your code goes here"
   ]
  },
  {
   "cell_type": "code",
   "execution_count": null,
   "id": "2368d70a",
   "metadata": {},
   "outputs": [],
   "source": []
  }
 ],
 "metadata": {
  "kernelspec": {
   "display_name": "Python 3",
   "language": "python",
   "name": "python3"
  },
  "language_info": {
   "codemirror_mode": {
    "name": "ipython",
    "version": 3
   },
   "file_extension": ".py",
   "mimetype": "text/x-python",
   "name": "python",
   "nbconvert_exporter": "python",
   "pygments_lexer": "ipython3",
   "version": "3.9.5"
  }
 },
 "nbformat": 4,
 "nbformat_minor": 5
}

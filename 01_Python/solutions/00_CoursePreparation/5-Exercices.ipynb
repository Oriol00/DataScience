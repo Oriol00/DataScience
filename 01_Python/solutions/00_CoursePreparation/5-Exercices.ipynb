{
 "cells": [
  {
   "cell_type": "markdown",
   "id": "f3f344ea",
   "metadata": {},
   "source": [
    "### Conditionals"
   ]
  },
  {
   "cell_type": "markdown",
   "id": "a4876b56",
   "metadata": {},
   "source": [
    "### 1. \n",
    "Modify the code below so that it prints on screen whether the number is even, odd or zero (Hint: use the % operator)"
   ]
  },
  {
   "cell_type": "code",
   "execution_count": 24,
   "id": "eae90f66",
   "metadata": {},
   "outputs": [
    {
     "name": "stdout",
     "output_type": "stream",
     "text": [
      "The number 5 is:  Odd\n"
     ]
    }
   ],
   "source": [
    "a = 5\n",
    "def is_even(a):\n",
    "    \n",
    "    if a == 0:\n",
    "        even_odd = \"zero\"\n",
    "    elif a % 2 == 0:\n",
    "        even_odd = \"Even\"\n",
    "    else: \n",
    "        even_odd = \"Odd\"\n",
    "        \n",
    "    ###########################################\n",
    "    # add your conditional statements here\n",
    "    \n",
    "\n",
    "    ###########################################\n",
    "    print(\"The number\", a, \"is: \", even_odd )\n",
    "is_even(a)\n",
    "    \n"
   ]
  },
  {
   "cell_type": "markdown",
   "id": "076b8d5d",
   "metadata": {},
   "source": [
    "### 2.\n",
    "\n",
    "Add a condition to the previous code to check that the number is an integer."
   ]
  },
  {
   "cell_type": "code",
   "execution_count": 25,
   "id": "cd7e9a38",
   "metadata": {},
   "outputs": [
    {
     "name": "stdout",
     "output_type": "stream",
     "text": [
      "The number I'm not an integer is: not a integer\n"
     ]
    }
   ],
   "source": [
    "a = \"I'm not an integer\"\n",
    "\n",
    "def is_even(a):\n",
    "    if type(a) == int:\n",
    "        if a==0:\n",
    "            result = \"zero\"\n",
    "        elif a % 2 == 0:\n",
    "            result = \"Even\"\n",
    "        else: \n",
    "            result = \"Odd\"\n",
    "    else:\n",
    "        result = \"not a integer\"\n",
    "    \n",
    "    print(\"The number\", a, \"is:\", result)\n",
    "    \n",
    "    ###########################################\n",
    "    # add your conditional statements here.\n",
    "    \n",
    "    # Check is integer\n",
    "    \n",
    "    # Check is even/odd\n",
    "    \n",
    "    ###########################################\n",
    "\n",
    "is_even(a)\n",
    "    \n",
    "\n"
   ]
  },
  {
   "cell_type": "markdown",
   "id": "a283ec9e",
   "metadata": {},
   "source": [
    "### 3. \n",
    "Create a function that takes 2 parameters. Given two integer numbers return their product only if the product is greater than 1000, else return their sum."
   ]
  },
  {
   "cell_type": "code",
   "execution_count": 42,
   "id": "ae4147b7",
   "metadata": {},
   "outputs": [
    {
     "name": "stdout",
     "output_type": "stream",
     "text": [
      "501 336 502 1001 1002\n"
     ]
    }
   ],
   "source": [
    "def f (a,b):\n",
    "    product = a*b\n",
    "    if product > 1000:\n",
    "        return product\n",
    "    else: \n",
    "        return a+b\n",
    "print( f(499,2),f(3,333),f(500,2), f(91,11), f(501,2) )\n",
    "# Your code goes here"
   ]
  },
  {
   "cell_type": "markdown",
   "id": "88c20506",
   "metadata": {},
   "source": [
    "## Lists"
   ]
  },
  {
   "cell_type": "markdown",
   "id": "82935b80",
   "metadata": {},
   "source": [
    "### 4.\n",
    "Concatenate two list index-wise"
   ]
  },
  {
   "cell_type": "code",
   "execution_count": 47,
   "id": "0a8b1042",
   "metadata": {},
   "outputs": [
    {
     "data": {
      "text/plain": [
       "['My', 'name', 'is', 'Kelly']"
      ]
     },
     "execution_count": 47,
     "metadata": {},
     "output_type": "execute_result"
    }
   ],
   "source": [
    "list1 = [\"M\", \"na\", \"i\", \"Ke\"]\n",
    "list2 = [\"y\", \"me\", \"s\", \"lly\"]\n",
    "\n",
    "# Your code goes here\n",
    "\n",
    "[x+y for x,y in zip(list1,list2)]\n",
    "# Expected output:\n",
    "# ['My', 'name', 'is', 'Kelly']"
   ]
  },
  {
   "cell_type": "markdown",
   "id": "971f8264",
   "metadata": {},
   "source": [
    "### 5.\n",
    "Concatenate two list item to item to get the expected output"
   ]
  },
  {
   "cell_type": "code",
   "execution_count": 50,
   "id": "55ffa1c5",
   "metadata": {},
   "outputs": [
    {
     "data": {
      "text/plain": [
       "['Hello Dear', 'Hello Sir', 'Bye Dear', 'Bye Sir']"
      ]
     },
     "execution_count": 50,
     "metadata": {},
     "output_type": "execute_result"
    }
   ],
   "source": [
    "list1 = [\"Hello \", \"Bye \"]\n",
    "list2 = [\"Dear\", \"Sir\"]\n",
    "\n",
    "[header+person for header in list1 for person in list2]\n",
    "\n",
    "# Your code goes here\n",
    "#l = []\n",
    "#for header in list1:\n",
    "#    for person in list2:\n",
    "#        l.append(header + person)\n",
    "#l\n",
    "\n",
    "\n",
    "\n",
    "# Expected output:\n",
    "# ['Hello Dear', 'Hello Sir', 'Bye Dear', 'Bye Sir']"
   ]
  },
  {
   "cell_type": "markdown",
   "id": "0e9c3405",
   "metadata": {},
   "source": [
    "### 6.\n",
    "Find number 20 in the following list and replace it by 200. Replace only the first occurrence"
   ]
  },
  {
   "cell_type": "code",
   "execution_count": 53,
   "id": "dc7959c7",
   "metadata": {},
   "outputs": [
    {
     "data": {
      "text/plain": [
       "[5, 10, 15, 200, 25, 50, 20]"
      ]
     },
     "execution_count": 53,
     "metadata": {},
     "output_type": "execute_result"
    }
   ],
   "source": [
    "mylist = [5, 10, 15, 20, 25, 50, 20]\n",
    "\n",
    "mylist[mylist.index(20)] = 200\n",
    "# Your code goes here\n",
    "mylist\n",
    "# Expected output:\n",
    "# [5, 10, 15, 200, 25, 50, 20]"
   ]
  },
  {
   "cell_type": "markdown",
   "id": "f850ec80",
   "metadata": {},
   "source": [
    "### 7.\n",
    "Remove all 20s from the following list"
   ]
  },
  {
   "cell_type": "code",
   "execution_count": 60,
   "id": "3da44179",
   "metadata": {},
   "outputs": [
    {
     "data": {
      "text/plain": [
       "[5, 10, 15, 25, 50]"
      ]
     },
     "execution_count": 60,
     "metadata": {},
     "output_type": "execute_result"
    }
   ],
   "source": [
    "mylist = [5, 10, 15, 20, 25, 50, 20]\n",
    "\n",
    "[x for x in mylist if x != 20]\n",
    "#for i,element in enumerate(mylist):\n",
    "#    if element == 20:\n",
    "#        del mylist[i]\n",
    "# Your code goes here\n",
    "#mylist\n",
    "# Expected output:\n",
    "# [5, 10, 15, 25, 50]"
   ]
  },
  {
   "cell_type": "markdown",
   "id": "5dfd723f",
   "metadata": {},
   "source": [
    "### 8. \n",
    "Write a program to iterate through the item in a list and in each iteration, print the sum of the current and previous number."
   ]
  },
  {
   "cell_type": "code",
   "execution_count": 67,
   "id": "d54971c2",
   "metadata": {},
   "outputs": [
    {
     "name": "stdout",
     "output_type": "stream",
     "text": [
      "[2, 6, 10, 14, 18]\n",
      "Current item:  2 previous item 0 sum:  2\n",
      "Current item:  6 previous item 2 sum:  8\n",
      "Current item:  10 previous item 6 sum:  16\n",
      "Current item:  14 previous item 10 sum:  24\n",
      "Current item:  18 previous item 14 sum:  32\n"
     ]
    }
   ],
   "source": [
    "mylist = list(range(2, 20, 4))\n",
    "\n",
    "print(mylist)\n",
    "i = 0\n",
    "previous = 0\n",
    "while i < len(mylist):\n",
    "    current = mylist[i]\n",
    "    print (\"Current item: \", current, \"previous item\", previous, \"sum: \", current + previous)\n",
    "    previous = current \n",
    "    i += 1\n",
    "\n",
    "\n",
    "# Your code goes here\n",
    "\n",
    "# Expected output:\n",
    "# Current item: 2 previous item: 0 sum: 2\n",
    "# Current item: 6 previous item: 2 sum: 8\n",
    "# Current item: 10 previous item: 6 sum: 16\n",
    "# Current item: 14 previous item: 10 sum: 24\n",
    "# Current item: 18 previous item: 14 sum: 32"
   ]
  },
  {
   "cell_type": "markdown",
   "id": "ce101a81",
   "metadata": {},
   "source": [
    "# Dictionaries"
   ]
  },
  {
   "cell_type": "markdown",
   "id": "467d65a5",
   "metadata": {},
   "source": [
    "### 9.\n",
    "Given the following list of dictionary, create a new dictionary  containing the salary for each name"
   ]
  },
  {
   "cell_type": "code",
   "execution_count": 70,
   "id": "fd57f802",
   "metadata": {},
   "outputs": [
    {
     "data": {
      "text/plain": [
       "{'Kelly': 1000, 'Ben': 8000, 'Ruben': 1200}"
      ]
     },
     "execution_count": 70,
     "metadata": {},
     "output_type": "execute_result"
    }
   ],
   "source": [
    "sampleDict = [{\n",
    "      \"name\": \"Kelly\",\n",
    "      \"age\":25,\n",
    "      \"salary\": 1000,\n",
    "      \"city\": \"New york\"\n",
    "    },{\n",
    "      \"name\": \"Ben\",\n",
    "      \"age\":30,\n",
    "      \"salary\": 8000,\n",
    "      \"city\": \"Barcelona\"\n",
    "    },{\n",
    "      \"name\": \"Ruben\",\n",
    "      \"age\":18,\n",
    "      \"salary\": 1200,\n",
    "      \"city\": \"Sabadell\"\n",
    "    }]\n",
    "\n",
    "# Your code goes here\n",
    "\n",
    "{x[\"name\"]:x[\"salary\"] for x in sampleDict}\n",
    "\n",
    "# Expected output:\n",
    "# {'Kelly': 1000, 'Ben': 8000, 'Ruben': 1200}"
   ]
  },
  {
   "cell_type": "markdown",
   "id": "7555951e",
   "metadata": {},
   "source": [
    "### 10.\n",
    "Get the subject with the minimum score on the following dictionary"
   ]
  },
  {
   "cell_type": "code",
   "execution_count": 91,
   "id": "7cfebb48",
   "metadata": {},
   "outputs": [
    {
     "data": {
      "text/plain": [
       "'Math'"
      ]
     },
     "execution_count": 91,
     "metadata": {},
     "output_type": "execute_result"
    }
   ],
   "source": [
    "scores = {\n",
    "  'Physics': 82,\n",
    "  'Math': 65,\n",
    "  'History': 75\n",
    "}\n",
    "\n",
    "# Your code goes here\n",
    "\n",
    "min(scores,key=scores.get)\n",
    "\n",
    "# Expected output:\n",
    "# Math"
   ]
  },
  {
   "cell_type": "markdown",
   "id": "ddab4605",
   "metadata": {},
   "source": [
    "## Loops"
   ]
  },
  {
   "cell_type": "markdown",
   "id": "160280b6",
   "metadata": {},
   "source": [
    "### 11.\n",
    "Find the average of a list of numbers. Use a for loop to iterate over all elements"
   ]
  },
  {
   "cell_type": "code",
   "execution_count": 102,
   "id": "fd99f79c",
   "metadata": {},
   "outputs": [
    {
     "name": "stdout",
     "output_type": "stream",
     "text": [
      "[5, 32, 567, 67, 98, 0, 5, 234, 6, 7, 21, 9, 32, 1]\n",
      "14\n",
      "77.42857142857143\n"
     ]
    }
   ],
   "source": [
    "mylist = [5, 32, 567, 67, 98, 0, 5, 234, 6, 7 ,21, 9, 32, 1]\n",
    "print(mylist)\n",
    "\n",
    "n = len(mylist)\n",
    "\n",
    "print(n)\n",
    "\n",
    "average = 0\n",
    "\n",
    "# your code goes here\n",
    "for x in mylist:\n",
    "    average += x\n",
    "average /= n\n",
    "\n",
    "print(average)\n",
    "#print (sum(mylist)/n)"
   ]
  },
  {
   "cell_type": "markdown",
   "id": "5a866504",
   "metadata": {},
   "source": [
    "### 12.\n",
    "Find the highest number of the list mylist"
   ]
  },
  {
   "cell_type": "code",
   "execution_count": 101,
   "id": "1b9b2bff",
   "metadata": {},
   "outputs": [
    {
     "name": "stdout",
     "output_type": "stream",
     "text": [
      "567\n"
     ]
    }
   ],
   "source": [
    "mylist = [5, 32, 567, 67, 98, 0, 5, 234, 6, 7 ,21, 9, 32, 1]\n",
    "\n",
    "highest = 0\n",
    "for x in mylist:\n",
    "    if x > highest:\n",
    "        highest = x\n",
    "print (highest)\n",
    "#print (max(mylist))\n"
   ]
  },
  {
   "cell_type": "markdown",
   "id": "d2d1622d",
   "metadata": {},
   "source": [
    "### 13.\n",
    "Print multiplication table form 1 to 10"
   ]
  },
  {
   "cell_type": "code",
   "execution_count": 158,
   "id": "29731309",
   "metadata": {
    "scrolled": true
   },
   "outputs": [
    {
     "name": "stdout",
     "output_type": "stream",
     "text": [
      "1  2  3  4  5  6  7  8  9  10 \n",
      "2  4  6  8  10 12 14 16 18 20 \n",
      "3  6  9  12 15 18 21 24 27 30 \n",
      "4  8  12 16 20 24 28 32 36 40 \n",
      "5  10 15 20 25 30 35 40 45 50 \n",
      "6  12 18 24 30 36 42 48 54 60 \n",
      "7  14 21 28 35 42 49 56 63 70 \n",
      "8  16 24 32 40 48 56 64 72 80 \n",
      "9  18 27 36 45 54 63 72 81 90 \n",
      "10 20 30 40 50 60 70 80 90 100\n"
     ]
    }
   ],
   "source": [
    "# Your code goes here\n",
    "\n",
    "#[x*y for x in range(1,11) for y in range(1,11)]\n",
    "\n",
    "for x in range (1,11):\n",
    "    out =\"\"\n",
    "    for y in range(1,11):\n",
    "        out += \"{:<3}\".format(y*x)\n",
    "    print (out)\n",
    "# Expected output:\n",
    "# 1  2 3 4 5 6 7 8 9 10 \n",
    "# 2  4 6 8 10 12 14 16 18 20 \n",
    "# 3  6 9 12 15 18 21 24 27 30 \n",
    "# 4  8 12 16 20 24 28 32 36 40 \n",
    "# 5  10 15 20 25 30 35 40 45 50 \n",
    "# 6  12 18 24 30 36 42 48 54 60 \n",
    "# 7  14 21 28 35 42 49 56 63 70 \n",
    "# 8  16 24 32 40 48 56 64 72 80 \n",
    "# 9  18 27 36 45 54 63 72 81 90 \n",
    "# 10 20 30 40 50 60 70 80 90 100 "
   ]
  },
  {
   "cell_type": "markdown",
   "id": "47472051",
   "metadata": {},
   "source": [
    "## List Comprehensions"
   ]
  },
  {
   "cell_type": "markdown",
   "id": "f0058dc4",
   "metadata": {},
   "source": [
    "### 14.\n",
    "Create a list containing all possible combinations of elements between list1 and list2 in which the elements are not equal"
   ]
  },
  {
   "cell_type": "code",
   "execution_count": 161,
   "id": "ad036d36",
   "metadata": {},
   "outputs": [
    {
     "data": {
      "text/plain": [
       "[[10, 30], [10, 50], [20, 30], [20, 10], [20, 50], [30, 10], [30, 50]]"
      ]
     },
     "execution_count": 161,
     "metadata": {},
     "output_type": "execute_result"
    }
   ],
   "source": [
    "list1 = [10, 20, 30]\n",
    "list2 = [30, 10, 50]\n",
    "\n",
    "\n",
    "# Your code goes here\n",
    "[[x,y] for x in list1 for y in list2 if x!=y]\n",
    "\n",
    "# Expected output:\n",
    "# [[10, 30], [10, 50], [20, 30], [20, 10], [20, 50], [30, 10], [30, 50]]"
   ]
  },
  {
   "cell_type": "markdown",
   "id": "6aae1cc8",
   "metadata": {},
   "source": [
    "### 15.\n",
    "Create a list that contains all the elements in list l2 which are not in list l1. Do it first using a for loop and then using list comprehensions"
   ]
  },
  {
   "cell_type": "code",
   "execution_count": 172,
   "id": "99505174",
   "metadata": {},
   "outputs": [
    {
     "name": "stdout",
     "output_type": "stream",
     "text": [
      "[32, 567, 67, 9, 32]\n"
     ]
    }
   ],
   "source": [
    "l1 = [1, 87, 45, 21, 7, 6, 234, 5, 0, 98, 65, 5, 2]\n",
    "l2 = [5, 32, 567, 67, 98, 0, 5, 234, 6, 7 ,21, 9, 32, 1]\n",
    "\n",
    "# Your code goes here\n",
    "difference = l2[:]\n",
    "for i in l1 :\n",
    "    difference = [x for x in difference if x!=i]\n",
    "print(difference)\n",
    "#set(l2).difference(set(l1))"
   ]
  },
  {
   "cell_type": "markdown",
   "id": "9f83dde2",
   "metadata": {},
   "source": [
    "## Functions"
   ]
  },
  {
   "cell_type": "markdown",
   "id": "99376757",
   "metadata": {},
   "source": [
    "### 16.\n",
    "Write a program to iterate a given list and count the occurrence of each element and create a dictionary to show the count of each element."
   ]
  },
  {
   "cell_type": "code",
   "execution_count": 179,
   "id": "5f332240",
   "metadata": {},
   "outputs": [
    {
     "data": {
      "text/plain": [
       "{11: 2, 45: 3, 8: 1, 23: 2, 89: 1}"
      ]
     },
     "execution_count": 179,
     "metadata": {},
     "output_type": "execute_result"
    }
   ],
   "source": [
    "sample_list = [11, 45, 8, 11, 23, 45, 23, 45, 89]\n",
    "\n",
    "# Your code goes here\n",
    "def occurrencies(sample_list):\n",
    "    dictionary={}\n",
    "    for element in sample_list:\n",
    "        if element in dictionary:\n",
    "            dictionary[element]+=1\n",
    "        else:\n",
    "            dictionary[element] = 1\n",
    "    return dictionary\n",
    "\n",
    "occurrencies(sample_list)\n",
    "\n",
    "# Expected output:\n",
    "# {11: 2, 45: 3, 8: 1, 23: 2, 89: 1}"
   ]
  },
  {
   "cell_type": "markdown",
   "id": "5dbd4217",
   "metadata": {},
   "source": [
    "### 17.\n",
    "Create a function that iterates through a given list and checks if a given element exists as a key’s value in a dictionary. If not, delete it from the list. Both the list and the dictionary are passed as arguments"
   ]
  },
  {
   "cell_type": "code",
   "execution_count": 189,
   "id": "810806aa",
   "metadata": {},
   "outputs": [
    {
     "name": "stdout",
     "output_type": "stream",
     "text": [
      "[47, 69, 76, 97]\n"
     ]
    }
   ],
   "source": [
    "roll_number = [47, 64, 69, 37, 76, 83, 97]\n",
    "sample_dict = {'Jhon':47, 'Emma':69, 'Kelly':76, 'Jason':97}\n",
    "\n",
    "# Your code goes here\n",
    "def checker(roll_number, sample_dict):\n",
    "    for i,element in enumerate(roll_number):\n",
    "        if element not in sample_dict.values():\n",
    "            del roll_number[i]\n",
    "    return roll_number\n",
    "\n",
    "\n",
    "print(checker(roll_number[:],sample_dict))\n",
    "# Expected output:\n",
    "# [47, 69, 76, 97]"
   ]
  },
  {
   "cell_type": "markdown",
   "id": "29f21fee",
   "metadata": {},
   "source": [
    "### 18.\n",
    "Write a function to return True if the first and last number of a given list is same. If numbers are different then return False. Try it with the following lists"
   ]
  },
  {
   "cell_type": "code",
   "execution_count": 190,
   "id": "194a2ce1",
   "metadata": {},
   "outputs": [
    {
     "name": "stdout",
     "output_type": "stream",
     "text": [
      "True\n",
      "False\n"
     ]
    }
   ],
   "source": [
    "numbers_x = [10, 20, 30, 40, 10]\n",
    "numbers_y = [75, 65, 35, 75, 30]\n",
    "\n",
    "# Your code goes here\n",
    "\n",
    "def checker(numbers):\n",
    "    return numbers[0] == numbers[-1]\n",
    "\n",
    "print(checker(numbers_x))\n",
    "print(checker(numbers_y))\n",
    "# Expected output for numbers_x:\n",
    "# True\n",
    "# Expected output for numbers_y:\n",
    "# False\n"
   ]
  },
  {
   "cell_type": "markdown",
   "id": "7d4c3986",
   "metadata": {},
   "source": [
    "### 19.\n",
    "Factorial: The factorial of a non-negative integer $n$, denoted by $n!$, is the product of all positive integers less than or equal to $n$.  Complete the function below so that it return the factorial of n"
   ]
  },
  {
   "cell_type": "code",
   "execution_count": 194,
   "id": "525d8d37",
   "metadata": {},
   "outputs": [
    {
     "data": {
      "text/plain": [
       "120"
      ]
     },
     "execution_count": 194,
     "metadata": {},
     "output_type": "execute_result"
    }
   ],
   "source": [
    "def factorial(n):\n",
    "    fact = 1\n",
    "    for x in range(1,n+1):\n",
    "        fact *= x\n",
    "    # Your code goes here\n",
    "    \n",
    "    return fact\n",
    "\n",
    "factorial(5)"
   ]
  },
  {
   "cell_type": "markdown",
   "id": "8669f168",
   "metadata": {},
   "source": [
    "### 20.\n",
    "The Fibonacci Sequence is the series of numbers: 0, 1, 1, 2, 3, 5, 8, 13, 21, 34, ...\n",
    "\n",
    "The general rule to compute the sequence is very simple: The next number is found by adding up the two numbers before it and fib1(0) = 0 and fib1(1) = 1. Complete the function below. "
   ]
  },
  {
   "cell_type": "code",
   "execution_count": 264,
   "id": "0e8b4e84",
   "metadata": {},
   "outputs": [
    {
     "data": {
      "text/plain": [
       "6765"
      ]
     },
     "execution_count": 264,
     "metadata": {},
     "output_type": "execute_result"
    }
   ],
   "source": [
    "def fib1(n):\n",
    "    fib = 0 \n",
    "    previous= 0\n",
    "    current= 1\n",
    "    # Your code goes here\n",
    "    if (n==1):\n",
    "        fib = 1\n",
    "    elif (n>1):\n",
    "        for _ in range(1,n):\n",
    "            fib = current + previous\n",
    "            previous = current\n",
    "            current = fib\n",
    "    return fib\n",
    "\n",
    "fib1(20)"
   ]
  }
 ],
 "metadata": {
  "kernelspec": {
   "display_name": "Python 3",
   "language": "python",
   "name": "python3"
  },
  "language_info": {
   "codemirror_mode": {
    "name": "ipython",
    "version": 3
   },
   "file_extension": ".py",
   "mimetype": "text/x-python",
   "name": "python",
   "nbconvert_exporter": "python",
   "pygments_lexer": "ipython3",
   "version": "3.9.5"
  }
 },
 "nbformat": 4,
 "nbformat_minor": 5
}

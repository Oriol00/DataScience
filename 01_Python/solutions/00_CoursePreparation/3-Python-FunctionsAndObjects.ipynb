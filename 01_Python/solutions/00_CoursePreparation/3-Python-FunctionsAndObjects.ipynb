{
 "cells": [
  {
   "cell_type": "markdown",
   "metadata": {},
   "source": [
    "## Modules\n",
    "\n",
    "Python is a general-purpose programming language, so when we want to use more specific commands (such as statistical operators or string processing oeprators) we usually need to import them before we can use them. For Scientific Python, one of the most important libraries that we need is **numpy** (Numerical Python), which can be loaded like this:"
   ]
  },
  {
   "cell_type": "code",
   "execution_count": 1,
   "metadata": {},
   "outputs": [
    {
     "data": {
      "text/plain": [
       "5.0"
      ]
     },
     "execution_count": 1,
     "metadata": {},
     "output_type": "execute_result"
    }
   ],
   "source": [
    "import numpy as np\n",
    "np.sqrt(25)"
   ]
  },
  {
   "cell_type": "code",
   "execution_count": 2,
   "metadata": {},
   "outputs": [
    {
     "data": {
      "text/plain": [
       "array([0, 1, 2, 3, 4, 5, 6, 7, 8, 9])"
      ]
     },
     "execution_count": 2,
     "metadata": {},
     "output_type": "execute_result"
    }
   ],
   "source": [
    "np.arange(10)"
   ]
  },
  {
   "cell_type": "markdown",
   "metadata": {},
   "source": [
    "Access to the functions, variables and classes of a module depends on the way the module was imported:"
   ]
  },
  {
   "cell_type": "code",
   "execution_count": 3,
   "metadata": {},
   "outputs": [
    {
     "data": {
      "text/plain": [
       "-1.0"
      ]
     },
     "execution_count": 3,
     "metadata": {},
     "output_type": "execute_result"
    }
   ],
   "source": [
    "import math\n",
    "math.cos(math.pi)"
   ]
  },
  {
   "cell_type": "code",
   "execution_count": 4,
   "metadata": {},
   "outputs": [
    {
     "data": {
      "text/plain": [
       "-1.0"
      ]
     },
     "execution_count": 4,
     "metadata": {},
     "output_type": "execute_result"
    }
   ],
   "source": [
    "import math as m  # import using an alias\n",
    "m.cos(m.pi)"
   ]
  },
  {
   "cell_type": "code",
   "execution_count": 5,
   "metadata": {},
   "outputs": [
    {
     "data": {
      "text/plain": [
       "-1.0"
      ]
     },
     "execution_count": 5,
     "metadata": {},
     "output_type": "execute_result"
    }
   ],
   "source": [
    "from math import cos,pi # import only some functions\n",
    "cos(pi)"
   ]
  },
  {
   "cell_type": "code",
   "execution_count": 6,
   "metadata": {},
   "outputs": [
    {
     "data": {
      "text/plain": [
       "-1.0"
      ]
     },
     "execution_count": 6,
     "metadata": {},
     "output_type": "execute_result"
    }
   ],
   "source": [
    "from math import *   # global import\n",
    "cos(pi)"
   ]
  },
  {
   "cell_type": "code",
   "execution_count": null,
   "metadata": {},
   "outputs": [],
   "source": []
  },
  {
   "cell_type": "markdown",
   "metadata": {},
   "source": [
    "## Exercices"
   ]
  },
  {
   "cell_type": "markdown",
   "metadata": {},
   "source": [
    "Import modules numpy and math. Print number pi from the numpy library"
   ]
  },
  {
   "cell_type": "code",
   "execution_count": 2,
   "metadata": {},
   "outputs": [
    {
     "name": "stdout",
     "output_type": "stream",
     "text": [
      "3.141592653589793\n"
     ]
    }
   ],
   "source": [
    "import math \n",
    "import numpy as np\n",
    "print (np.pi)\n",
    "# Your code goes here"
   ]
  },
  {
   "cell_type": "markdown",
   "metadata": {},
   "source": [
    "## Functions\n",
    "Python has a lot of prebuilt functions that you can use, such as `print`, which will print on screen the passed arguments, or `abs`, which will return the absolute value of the argument.\n",
    "\n",
    "In this section, we'll learn how to use these function as well as creating your own ones"
   ]
  },
  {
   "cell_type": "markdown",
   "metadata": {},
   "source": [
    "## Getting help on what a function does\n",
    "\n",
    "If you've forgotten what a function does, you can use the `help`function to get information on how to use it. For example:"
   ]
  },
  {
   "cell_type": "code",
   "execution_count": 8,
   "metadata": {},
   "outputs": [
    {
     "name": "stdout",
     "output_type": "stream",
     "text": [
      "Help on built-in function print in module builtins:\n",
      "\n",
      "print(...)\n",
      "    print(value, ..., sep=' ', end='\\n', file=sys.stdout, flush=False)\n",
      "    \n",
      "    Prints the values to a stream, or to sys.stdout by default.\n",
      "    Optional keyword arguments:\n",
      "    file:  a file-like object (stream); defaults to the current sys.stdout.\n",
      "    sep:   string inserted between values, default a space.\n",
      "    end:   string appended after the last value, default a newline.\n",
      "    flush: whether to forcibly flush the stream.\n",
      "\n"
     ]
    }
   ],
   "source": [
    "help(print)"
   ]
  },
  {
   "cell_type": "markdown",
   "metadata": {},
   "source": [
    "The help function will return the header of the function and the arguments it takes as well as a brief description of what the function does"
   ]
  },
  {
   "cell_type": "markdown",
   "metadata": {},
   "source": [
    "## Defining functions\n",
    "\n",
    "We can create your own functions. Functions start with a header introduced by the `def` keyword. The indented block of code following the`:` is run when the function is called.\n",
    "\n",
    "`return` is another keyword uniquely associated with functions. When Python encounters a return statement, it exits the function immediately, and passes the value on the right hand side to the calling context.\n",
    "\n",
    "Here you can see an example of a function:"
   ]
  },
  {
   "cell_type": "code",
   "execution_count": 9,
   "metadata": {},
   "outputs": [
    {
     "name": "stdout",
     "output_type": "stream",
     "text": [
      "6 16 16\n"
     ]
    }
   ],
   "source": [
    "def area_rectangle(a, b):     #parameters separated by comma\n",
    "    return a * b  #Identation means inside functions\n",
    "\n",
    "print(area_rectangle(2, 3), area_rectangle(4,4), area_rectangle(8, 2))"
   ]
  },
  {
   "cell_type": "code",
   "execution_count": 10,
   "metadata": {},
   "outputs": [
    {
     "name": "stdout",
     "output_type": "stream",
     "text": [
      "Help on function area_rectangle in module __main__:\n",
      "\n",
      "area_rectangle(a, b)\n",
      "\n"
     ]
    }
   ],
   "source": [
    "help(area_rectangle)"
   ]
  },
  {
   "cell_type": "markdown",
   "metadata": {},
   "source": [
    "If we get help on the function we've created, we jut get the header. However, it is possible to enter a description by including a triple-quoted string that comes immediately after the header of a function:"
   ]
  },
  {
   "cell_type": "code",
   "execution_count": 11,
   "metadata": {},
   "outputs": [
    {
     "name": "stdout",
     "output_type": "stream",
     "text": [
      "18.849539999999998\n",
      "_______________________\n",
      "\n",
      "Help on function area_circle in module __main__:\n",
      "\n",
      "area_circle(r)\n",
      "    Return the area of a circle of radius r.\n",
      "\n"
     ]
    }
   ],
   "source": [
    "def area_circle(r):     #parameters separated by comma\n",
    "    \"\"\"Return the area of a circle of radius r.\"\"\"\n",
    "    pi = 3.14159\n",
    "    return 2 * pi * r  #Identation means inside functions\n",
    "\n",
    "print(area_circle(3))\n",
    "print(\"_______________________\\n\")\n",
    "help(area_circle)"
   ]
  },
  {
   "cell_type": "markdown",
   "metadata": {},
   "source": [
    "A list can be passed as a set of parameters to a function using *\n",
    "\n",
    "A Dictionary can be passed as a set of optional parameters to a function using **"
   ]
  },
  {
   "cell_type": "code",
   "execution_count": 3,
   "metadata": {},
   "outputs": [
    {
     "name": "stdout",
     "output_type": "stream",
     "text": [
      "10\n"
     ]
    }
   ],
   "source": [
    "args= [1,2,3]\n",
    "kargs = {'d':4}\n",
    "\n",
    "def f(a,b,c,d=0):\n",
    "    print(a+b+c+d)\n",
    "f(*args,**kargs)    "
   ]
  },
  {
   "cell_type": "markdown",
   "metadata": {},
   "source": [
    "### Fucntion examples\n",
    "#### Greatest Common Divisor\n",
    "\n",
    "The greatest common divisor of two positive integers $a$ and $b$ is the largest divisor common to $a$ and $b$.  The Euclidean algorithm, or Euclid's algorithm, is an interative method for computing the greatest common divisor of two integers. \n",
    "\n",
    "+ If $a<b$, exchange $a$ and $b$.\n",
    "+ Divide $a$ by $b$ and get the remainder, $r$. If $r=0$, report $b$ as the GCD of $a$ and $b$.\n",
    "+ Replace $a$ by $b$ and replace $b$ by $r$. If $r \\neq 0$ iterate.\n",
    "\n"
   ]
  },
  {
   "cell_type": "code",
   "execution_count": 4,
   "metadata": {},
   "outputs": [
    {
     "data": {
      "text/plain": [
       "4"
      ]
     },
     "execution_count": 4,
     "metadata": {},
     "output_type": "execute_result"
    }
   ],
   "source": [
    "def gcd(a,b): # Euclides algorithm v1.0: pseudocode translation\n",
    "    r = 1\n",
    "    while r != 0:\n",
    "        if a<b:\n",
    "            c=a\n",
    "            a=b\n",
    "            b=c\n",
    "        r = a%b \n",
    "        if r == 0:\n",
    "            return b\n",
    "        else:\n",
    "            a = b\n",
    "            b = r\n",
    "\n",
    "gcd(100,16)"
   ]
  },
  {
   "cell_type": "code",
   "execution_count": 5,
   "metadata": {},
   "outputs": [
    {
     "data": {
      "text/plain": [
       "4"
      ]
     },
     "execution_count": 5,
     "metadata": {},
     "output_type": "execute_result"
    }
   ],
   "source": [
    "def gcd(a,b):   # Euclides algorithm v2.0: idiomatic Python\n",
    "    while a:\n",
    "        a, b = (b%a, a)\n",
    "    return b\n",
    "\n",
    "gcd(100,16)"
   ]
  },
  {
   "cell_type": "markdown",
   "metadata": {},
   "source": [
    "### Exercices\n",
    "\n",
    "Write a program to create a function that takes two arguments, name and age, and print their value."
   ]
  },
  {
   "cell_type": "code",
   "execution_count": 12,
   "metadata": {},
   "outputs": [],
   "source": [
    "def f (name, age):\n",
    "    print (name)\n",
    "    print (age)\n",
    "    \n",
    "\n",
    "# Your code goes here"
   ]
  },
  {
   "cell_type": "markdown",
   "metadata": {},
   "source": [
    "Call your function passing the arguments from the following list:"
   ]
  },
  {
   "cell_type": "code",
   "execution_count": 13,
   "metadata": {},
   "outputs": [
    {
     "name": "stdout",
     "output_type": "stream",
     "text": [
      "myname\n",
      "30\n"
     ]
    }
   ],
   "source": [
    "myvars = [\"myname\", 30]\n",
    "f(*myvars)\n",
    "# Your code goes here"
   ]
  },
  {
   "cell_type": "markdown",
   "metadata": {},
   "source": [
    "Create a dictonary containing the myvars as values and the following list as keys. Call your function using the dictionary to pass the parameters"
   ]
  },
  {
   "cell_type": "code",
   "execution_count": 16,
   "metadata": {},
   "outputs": [
    {
     "name": "stdout",
     "output_type": "stream",
     "text": [
      "myname\n",
      "30\n"
     ]
    }
   ],
   "source": [
    "mykeys = [\"name\", \"age\"]\n",
    "# your code goes here\n",
    "dic = {x:y for x,y in zip(mykeys,myvars)}\n",
    "f(**dic)"
   ]
  },
  {
   "cell_type": "markdown",
   "metadata": {},
   "source": [
    "### Functions and objects -> Decorators\n",
    "\n",
    "\n",
    "In Python, functions are first-class objects. This means that functions can be passed around and used as arguments, just like any other object (string, int, float, list, and so on). Python also allows you to use functions as return values. You can do functions that accept functions as parameters. So decorators are a wrapper for a function, modifying its behavior:\n"
   ]
  },
  {
   "cell_type": "code",
   "execution_count": 18,
   "metadata": {},
   "outputs": [
    {
     "name": "stdout",
     "output_type": "stream",
     "text": [
      "Something is happening before the function is called.\n",
      "Whee!\n",
      "Something is happening after the function is called.\n"
     ]
    }
   ],
   "source": [
    "def my_decorator(func):\n",
    "    def wrapper():\n",
    "        print(\"Something is happening before the function is called.\")\n",
    "        func()\n",
    "        print(\"Something is happening after the function is called.\")\n",
    "    return wrapper\n",
    "\n",
    "def say_whee():\n",
    "    print(\"Whee!\")\n",
    "\n",
    "say_whee = my_decorator(say_whee) #Overwrite say_whee using the decorator wraper\n",
    "\n",
    "say_whee()"
   ]
  },
  {
   "cell_type": "markdown",
   "metadata": {},
   "source": [
    "You can use @ sintax to define a function that will use a decorator:"
   ]
  },
  {
   "cell_type": "code",
   "execution_count": 19,
   "metadata": {},
   "outputs": [
    {
     "name": "stdout",
     "output_type": "stream",
     "text": [
      "Something is happening before the function is called.\n",
      "Whee!\n",
      "Something is happening after the function is called.\n"
     ]
    }
   ],
   "source": [
    "def my_decorator(func):\n",
    "    def wrapper():\n",
    "        print(\"Something is happening before the function is called.\")\n",
    "        func()\n",
    "        print(\"Something is happening after the function is called.\")\n",
    "    return wrapper\n",
    "\n",
    "@my_decorator ##  say_wee= my_decorator(say_whee)\n",
    "def say_whee():\n",
    "    print(\"Whee!\")\n",
    "    \n",
    "say_whee()"
   ]
  },
  {
   "cell_type": "markdown",
   "metadata": {},
   "source": [
    "# Objects\n",
    "\n",
    "You can define your own classes and objects."
   ]
  },
  {
   "cell_type": "code",
   "execution_count": 17,
   "metadata": {},
   "outputs": [],
   "source": [
    "#creating a class\n",
    "\n",
    "class Rectangle:\n",
    "    def __init__(self,x,y):\n",
    "        self.x = x\n",
    "        self.y = y\n",
    "    description = \"This shape has not been described yet\"\n",
    "    author = \"Nobody has claimed to make this shape yet\"\n",
    "    def area(self):\n",
    "        return self.x * self.y\n",
    "    def perimeter(self):\n",
    "        return 2 * self.x + 2 * self.y\n",
    "    def describe(self,text):\n",
    "        self.description = text\n",
    "    def authorName(self,text):\n",
    "        self.author = text\n",
    "    def scaleSize(self,scale):\n",
    "        self.x = self.x * scale\n",
    "        self.y = self.y * scale\n",
    "\n",
    "#creating objects\n",
    "a = Rectangle(100, 45)\n",
    "b = Rectangle(10,230)\n",
    "\n",
    "#describing the rectangles\n",
    "a.describe(\"A fat rectangle\")\n",
    "b.describe(\"A thin rectangle\")"
   ]
  },
  {
   "cell_type": "code",
   "execution_count": 18,
   "metadata": {},
   "outputs": [
    {
     "name": "stdout",
     "output_type": "stream",
     "text": [
      "4500\n",
      "290\n",
      "A fat rectangle\n",
      "Nobody has claimed to make this shape yet\n"
     ]
    }
   ],
   "source": [
    "#finding the area of your rectangle:\n",
    "print(a.area())\n",
    " \n",
    "#finding the perimeter of your rectangle:\n",
    "print(a.perimeter())\n",
    "\n",
    "#getting the description\n",
    "print(a.description)\n",
    "print(a.author)"
   ]
  },
  {
   "cell_type": "markdown",
   "metadata": {},
   "source": [
    "# Exercices\n",
    "\n",
    "### 1.\n",
    "Do the following on rectangle b:"
   ]
  },
  {
   "cell_type": "code",
   "execution_count": 25,
   "metadata": {},
   "outputs": [
    {
     "name": "stdout",
     "output_type": "stream",
     "text": [
      "8.984375\n",
      "30.0\n",
      "A small thin rectangle\n",
      "2.24609375\n",
      "15.0\n"
     ]
    }
   ],
   "source": [
    "#finding the area and perimeter of your rectangle:\n",
    "print(b.area())\n",
    "print(b.perimeter())\n",
    "\n",
    "#making the rectangle 50% smaller\n",
    "b.scaleSize(0.5)\n",
    "\n",
    "# Change the description to: \"A small thin rectangle\"\n",
    "\n",
    "b.describe(\"A small thin rectangle\")\n",
    "print (b.description)\n",
    "#re-printing the new area, perimeter and description of the rectangle\n",
    "print(b.area())\n",
    "print(b.perimeter())"
   ]
  },
  {
   "cell_type": "markdown",
   "metadata": {},
   "source": [
    "## References\n",
    "\n",
    "We can inspect the reference of an object:"
   ]
  },
  {
   "cell_type": "code",
   "execution_count": 23,
   "metadata": {},
   "outputs": [
    {
     "name": "stdout",
     "output_type": "stream",
     "text": [
      "140224794292016\n"
     ]
    }
   ],
   "source": [
    "a ='hello'\n",
    "print(id(a))"
   ]
  },
  {
   "cell_type": "markdown",
   "metadata": {},
   "source": [
    "Two different objects:"
   ]
  },
  {
   "cell_type": "code",
   "execution_count": 24,
   "metadata": {},
   "outputs": [
    {
     "name": "stdout",
     "output_type": "stream",
     "text": [
      "140224242627968 140224242667776\n",
      "False\n",
      "True\n"
     ]
    }
   ],
   "source": [
    "a = [1,2,3]\n",
    "b = [1,2,3]\n",
    "print(id(a), id(b))\n",
    "print (a is b)\n",
    "print (a == b)"
   ]
  },
  {
   "cell_type": "markdown",
   "metadata": {},
   "source": [
    "Object alias:"
   ]
  },
  {
   "cell_type": "code",
   "execution_count": 25,
   "metadata": {},
   "outputs": [
    {
     "name": "stdout",
     "output_type": "stream",
     "text": [
      "140224242562048 140224242562048\n"
     ]
    }
   ],
   "source": [
    "a = [1,2,3]\n",
    "b = a                     # alias\n",
    "print(id(a), id(b))"
   ]
  },
  {
   "cell_type": "markdown",
   "metadata": {},
   "source": [
    "Cloning:"
   ]
  },
  {
   "cell_type": "code",
   "execution_count": 26,
   "metadata": {},
   "outputs": [
    {
     "name": "stdout",
     "output_type": "stream",
     "text": [
      "[1, 2, 3] [1, 2, 3] [2, 3] 140224242820736 140224242539200 140224794053248\n"
     ]
    }
   ],
   "source": [
    "a = [1,2,3]\n",
    "b = a[:]                  # cloning with :\n",
    "\n",
    "print(a, b, b[1:], id(a), id(b), id(b[1:]))"
   ]
  },
  {
   "cell_type": "markdown",
   "metadata": {},
   "source": [
    "When a list is an argument of a function, we are sending the *reference*, not a *copy*"
   ]
  },
  {
   "cell_type": "code",
   "execution_count": null,
   "metadata": {},
   "outputs": [],
   "source": []
  }
 ],
 "metadata": {
  "kernelspec": {
   "display_name": "Python 3",
   "language": "python",
   "name": "python3"
  },
  "language_info": {
   "codemirror_mode": {
    "name": "ipython",
    "version": 3
   },
   "file_extension": ".py",
   "mimetype": "text/x-python",
   "name": "python",
   "nbconvert_exporter": "python",
   "pygments_lexer": "ipython3",
   "version": "3.9.5"
  },
  "widgets": {
   "state": {},
   "version": "1.1.1"
  }
 },
 "nbformat": 4,
 "nbformat_minor": 1
}

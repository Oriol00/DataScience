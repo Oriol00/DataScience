{
 "cells": [
  {
   "cell_type": "markdown",
   "metadata": {
    "collapsed": true
   },
   "source": [
    "# Jupyter notebook basics"
   ]
  },
  {
   "cell_type": "markdown",
   "metadata": {},
   "source": [
    "In this course we'll be using Jupyter notebooks to write and run Python, so the first step we'll be to learn how to use them."
   ]
  },
  {
   "cell_type": "markdown",
   "metadata": {},
   "source": [
    "Notebook documents (or “notebooks”, all lower case) are documents produced by the Jupyter Notebook App, which contain both computer code (e.g. python) and rich text elements (paragraph, equations, figures, links, etc...).\n",
    "Notebooks are composed by cells, which are blocks of code or rich text. Each of these is editable, though you'll mainly be editing the code cells to answer questions."
   ]
  },
  {
   "cell_type": "markdown",
   "metadata": {},
   "source": [
    "### The technical description of a Jupyter notebook\n",
    "\n",
    "The Jupyter Notebook App is a server-client application that allows editing and running notebook documents via a web browser. The IBM version of Jupyter Notebook App is installed on a remote server and accessed through the internet.\n",
    "\n",
    "A notebook kernel is a “computational engine” that executes the code contained in a Notebook document. The ipython kernel, referenced in this guide, executes python code. Kernels for many other languages exist (check the Kernels menu above).\n",
    "\n",
    "When you open a Notebook document, the associated kernel is automatically launched. When the notebook is executed (either cell-by-cell or with menu Cell -> Run All), the kernel performs the computation and produces the results. Depending on the type of computations, the kernel may consume significant CPU and RAM. Note that the RAM is not released until the kernel is shut-down"
   ]
  },
  {
   "cell_type": "markdown",
   "metadata": {},
   "source": [
    "# Useful Shortcuts"
   ]
  },
  {
   "cell_type": "markdown",
   "metadata": {},
   "source": [
    "## 1. Running a notebook cell\n",
    "\n",
    "ctrl-enter: execute the active cell and stay in that cell\n",
    "shift-enter: execute the active cell and move to the next cell\n",
    "\n",
    "*Try it out* Run the following cells:"
   ]
  },
  {
   "cell_type": "code",
   "execution_count": 1,
   "metadata": {
    "scrolled": true
   },
   "outputs": [
    {
     "name": "stdout",
     "output_type": "stream",
     "text": [
      "Hello world\n"
     ]
    }
   ],
   "source": [
    "print (\"Hello world\")"
   ]
  },
  {
   "cell_type": "code",
   "execution_count": 2,
   "metadata": {
    "scrolled": true
   },
   "outputs": [
    {
     "name": "stdout",
     "output_type": "stream",
     "text": [
      "Second line\n"
     ]
    }
   ],
   "source": [
    "print (\"Second line\")"
   ]
  },
  {
   "cell_type": "markdown",
   "metadata": {},
   "source": [
    "## 2. Inserting new cells\n",
    "\n",
    "when a cell is selected in blue (click in the margin to the left of the cell) or, if you're edditing the cell, hit the escapte key, it shows a blue surrounding box.\n",
    "\n",
    "Type: \n",
    "- `a` (above) to create a new empty cell above the currently active cell\n",
    "- `b` (below) to create a new empty cell below the currently active cell\n",
    "\n",
    "*Try it out: Add a cell below and then a cell above*"
   ]
  },
  {
   "cell_type": "markdown",
   "metadata": {},
   "source": [
    "## 3. Markup code\n",
    "\n",
    "The shorcut `m` (with the blue selection) changes the cell from computation to markdown. This allows to create rich text elements to document the code.\n",
    "Conversely, you can convert a cell to a code cell with the shortcut `y`.\n",
    "\n",
    "*Try it out: Convert the first cell below to a code cell and run it and the cell below to a markdown cell*"
   ]
  },
  {
   "cell_type": "markdown",
   "metadata": {},
   "source": [
    "print(\"Now this is a code cell :)\")"
   ]
  },
  {
   "cell_type": "code",
   "execution_count": 3,
   "metadata": {},
   "outputs": [
    {
     "ename": "SyntaxError",
     "evalue": "invalid syntax (<ipython-input-3-317bdfc35645>, line 6)",
     "output_type": "error",
     "traceback": [
      "\u001b[0;36m  File \u001b[0;32m\"<ipython-input-3-317bdfc35645>\"\u001b[0;36m, line \u001b[0;32m6\u001b[0m\n\u001b[0;31m    **bold**\u001b[0m\n\u001b[0m    ^\u001b[0m\n\u001b[0;31mSyntaxError\u001b[0m\u001b[0;31m:\u001b[0m invalid syntax\n"
     ]
    }
   ],
   "source": [
    "# Heading 1\n",
    "## Heading 2\n",
    "### Heading 3\n",
    "#### Heading 4\n",
    "\n",
    "**bold**\n",
    "\n",
    "*italics*\n",
    "\n",
    "empty line is a paragraph\n",
    "\n",
    "this is a new parapgraph"
   ]
  },
  {
   "cell_type": "markdown",
   "metadata": {},
   "source": [
    "If you successfully converted the cell to a markdown cell it should display the same as de cell below. "
   ]
  },
  {
   "cell_type": "markdown",
   "metadata": {},
   "source": [
    "# Heading 1\n",
    "## Heading 2\n",
    "### Heading 3\n",
    "#### Heading 4\n",
    "\n",
    "**bold**\n",
    "\n",
    "*italics*\n",
    "\n",
    "empty line is a paragraph\n",
    "\n",
    "this is a new parapgraph"
   ]
  },
  {
   "cell_type": "markdown",
   "metadata": {},
   "source": [
    "## 4. Other shotcuts\n",
    "\n",
    "The shorcut `h` (with the blue selection) shows other shortcuts\n",
    "The shortcut `o` (with the blue selection) will hide long output."
   ]
  },
  {
   "cell_type": "code",
   "execution_count": null,
   "metadata": {},
   "outputs": [],
   "source": [
    "# Try toggling the output\n",
    "for i in range(10):\n",
    "    print (\"Hello world\")"
   ]
  },
  {
   "cell_type": "markdown",
   "metadata": {},
   "source": [
    "Help on objects:\n",
    "obj?, obj??      : Get help, or more help for object (also works as\n",
    "                   ?obj, ??obj).\n",
    "?foo.*abc*       : List names in 'foo' containing 'abc' in them."
   ]
  },
  {
   "cell_type": "code",
   "execution_count": null,
   "metadata": {},
   "outputs": [],
   "source": [
    "#try it out\n",
    "?dict"
   ]
  }
 ],
 "metadata": {
  "kernelspec": {
   "display_name": "Python 3",
   "language": "python",
   "name": "python3"
  },
  "language_info": {
   "codemirror_mode": {
    "name": "ipython",
    "version": 3
   },
   "file_extension": ".py",
   "mimetype": "text/x-python",
   "name": "python",
   "nbconvert_exporter": "python",
   "pygments_lexer": "ipython3",
   "version": "3.8.3"
  }
 },
 "nbformat": 4,
 "nbformat_minor": 1
}

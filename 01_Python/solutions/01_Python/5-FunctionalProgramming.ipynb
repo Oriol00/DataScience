{
 "cells": [
  {
   "cell_type": "markdown",
   "id": "d02fdd49",
   "metadata": {},
   "source": [
    "# Functional Programming\n",
    "\n",
    "* lambda\n",
    "\n",
    "* map\n",
    "\n",
    "* filter\n",
    "\n",
    "* reduce\n",
    "\n",
    "* list comprehensions "
   ]
  },
  {
   "cell_type": "markdown",
   "id": "92dbb426",
   "metadata": {},
   "source": [
    "## Lambda\n",
    "\n",
    "Function without a name. Useful when you want to declare a function online, usally for using it as a parameter for another function."
   ]
  },
  {
   "cell_type": "code",
   "execution_count": 1,
   "id": "9cbb0ad9",
   "metadata": {},
   "outputs": [
    {
     "data": {
      "text/plain": [
       "True"
      ]
     },
     "execution_count": 1,
     "metadata": {},
     "output_type": "execute_result"
    }
   ],
   "source": [
    "def old_add (a,b):\n",
    "    return a+b\n",
    "\n",
    "new_add = lambda a, b: a + b\n",
    "\n",
    "new_add(4,5) == 4 + 5  and new_add(4,5) == old_add(4,5)\n"
   ]
  },
  {
   "cell_type": "code",
   "execution_count": 8,
   "id": "3da3360d",
   "metadata": {},
   "outputs": [],
   "source": [
    "? sorted"
   ]
  },
  {
   "cell_type": "code",
   "execution_count": 2,
   "id": "861a0948",
   "metadata": {},
   "outputs": [
    {
     "name": "stdout",
     "output_type": "stream",
     "text": [
      "[('b', 6), ('a', 10), ('d', 0), ('c', 4)]\n",
      "[('a', 10), ('b', 6), ('c', 4), ('d', 0)]\n",
      "[('d', 0), ('c', 4), ('b', 6), ('a', 10)]\n"
     ]
    }
   ],
   "source": [
    "unsorted = [('b', 6), ('a', 10), ('d', 0), ('c', 4)]\n",
    "print(unsorted)\n",
    "print(sorted(unsorted, key=lambda x: x[0])) # Sort using the first element of the tupple\n",
    "print(sorted(unsorted, key=lambda x: x[1])) # Sort using the second element of the tupple"
   ]
  },
  {
   "cell_type": "markdown",
   "id": "3227eab8",
   "metadata": {},
   "source": [
    "### Exercices\n",
    "Create a lambda function that takes 3 arguments and return the sum of the 3 arguments"
   ]
  },
  {
   "cell_type": "code",
   "execution_count": 3,
   "id": "41e5040a",
   "metadata": {},
   "outputs": [
    {
     "data": {
      "text/plain": [
       "6"
      ]
     },
     "execution_count": 3,
     "metadata": {},
     "output_type": "execute_result"
    }
   ],
   "source": [
    "f = lambda a,b,c: a+b+c\n",
    "f(1,2,3)\n",
    "# Your code goes here"
   ]
  },
  {
   "cell_type": "markdown",
   "id": "0a38a2b8",
   "metadata": {},
   "source": [
    "Using sorted() function and lambda sort the words in the list based on their second letter from a to z."
   ]
  },
  {
   "cell_type": "code",
   "execution_count": 6,
   "id": "843aa083",
   "metadata": {},
   "outputs": [
    {
     "name": "stdout",
     "output_type": "stream",
     "text": [
      "['rabbit', 'marten', 'whale', 'chipmunk', 'sheep', 'goose', 'fox', 'otter']\n"
     ]
    }
   ],
   "source": [
    "unsorted=[\"otter\", \"whale\", \"goose\", \"chipmunk\", \"fox\", \"sheep\", \"rabbit\", \"marten\"]\n",
    "\n",
    "# Your code goes here\n",
    "sorted_list = sorted(unsorted, key=lambda x: x[1])\n",
    "\n",
    "print(sorted_list)\n",
    "\n",
    "# Expected output:\n",
    "# ['rabbit', 'marten', 'whale', 'chipmunk', 'sheep', 'goose', 'fox', 'otter']\n"
   ]
  },
  {
   "cell_type": "markdown",
   "id": "222a3fb2",
   "metadata": {},
   "source": [
    "## Map\n",
    "\n",
    "Takes a function and one or more collection of values as a parameters. Exectutes the function in each element of the list. Useful when you want to use the functional pattern: map-reduce, normally when you want to process collections of data."
   ]
  },
  {
   "cell_type": "code",
   "execution_count": 7,
   "id": "5ea36b1f",
   "metadata": {},
   "outputs": [
    {
     "name": "stdout",
     "output_type": "stream",
     "text": [
      "[11, 12, 13, 14, 15]\n",
      "[21, 22, 23, 24, 25]\n"
     ]
    }
   ],
   "source": [
    "values = [1, 2, 3, 4, 5]\n",
    "# Note: We convert the returned map object to\n",
    "# a list data structure.\n",
    "\n",
    "add_10 = list(map(lambda x: x + 10, values))\n",
    "add_20 = list(map(lambda x: x + 20, values))\n",
    "print(add_10)\n",
    "print (add_20)\n"
   ]
  },
  {
   "cell_type": "code",
   "execution_count": 8,
   "id": "9369f86e",
   "metadata": {},
   "outputs": [
    {
     "data": {
      "text/plain": [
       "[1.0, 1.4142135623730951, 1.7320508075688772, 2.0, 2.23606797749979]"
      ]
     },
     "execution_count": 8,
     "metadata": {},
     "output_type": "execute_result"
    }
   ],
   "source": [
    "import math\n",
    "list(map(math.sqrt,values))"
   ]
  },
  {
   "cell_type": "markdown",
   "id": "6cd6d595",
   "metadata": {},
   "source": [
    "### Exercice\n",
    "#### 1.\n",
    "Return a list which takes each item to the power of 3. Use map and lambda (hint: use pow function)"
   ]
  },
  {
   "cell_type": "code",
   "execution_count": 11,
   "id": "d7d1ab86",
   "metadata": {},
   "outputs": [
    {
     "name": "stdout",
     "output_type": "stream",
     "text": [
      "[0, 1, 2, 3, 4]\n"
     ]
    },
    {
     "data": {
      "text/plain": [
       "[0, 1, 8, 27, 64]"
      ]
     },
     "execution_count": 11,
     "metadata": {},
     "output_type": "execute_result"
    }
   ],
   "source": [
    "mylist = list(range(5))\n",
    "print(mylist)\n",
    "\n",
    "# Your code goes here\n",
    "list(map (lambda x: pow(x,3),mylist))\n",
    "\n",
    "# Expected output:\n",
    "# [0, 1, 8, 27, 64]"
   ]
  },
  {
   "cell_type": "markdown",
   "id": "f82246ff",
   "metadata": {},
   "source": [
    "#### 2.\n",
    "Add two lists using map and lambda"
   ]
  },
  {
   "cell_type": "code",
   "execution_count": 17,
   "id": "1281c476",
   "metadata": {},
   "outputs": [
    {
     "data": {
      "text/plain": [
       "[5, 7, 9]"
      ]
     },
     "execution_count": 17,
     "metadata": {},
     "output_type": "execute_result"
    }
   ],
   "source": [
    "numbers1 = [1, 2, 3]\n",
    "numbers2 = [4, 5, 6]\n",
    "\n",
    "# Your code goes here\n",
    "list(map(lambda x,y: x+y,numbers1,numbers2))\n",
    "# Expected output:\n",
    "# [5, 7, 9]"
   ]
  },
  {
   "cell_type": "markdown",
   "id": "5ffbf235",
   "metadata": {},
   "source": [
    "## Filter\n",
    "Takes a boolen function and a collection of values as a parameters. Executes the boolean function to each value in the collection and return those of them that result is true. Useful for keep values that checks a certain test.\n"
   ]
  },
  {
   "cell_type": "code",
   "execution_count": 18,
   "id": "c4b1e56f",
   "metadata": {},
   "outputs": [
    {
     "name": "stdout",
     "output_type": "stream",
     "text": [
      "[2, 4, 6, 8, 10]\n",
      "[1, 3, 5, 7, 9]\n"
     ]
    }
   ],
   "source": [
    "values = [1, 2, 3, 4, 5, 6, 7, 8, 9, 10]\n",
    "\n",
    "# Note: We convert the returned filter object to\n",
    "# a list data structure.\n",
    "even = list(filter(lambda x: x % 2 == 0, values))\n",
    "odd = list(filter(lambda x: x % 2 == 1, values))\n",
    "\n",
    "print(even)\n",
    "\n",
    "print(odd)"
   ]
  },
  {
   "cell_type": "markdown",
   "id": "88b49718",
   "metadata": {},
   "source": [
    "### Exercices\n",
    "#### 1.\n",
    "Filter the elements that are lower than five\n"
   ]
  },
  {
   "cell_type": "code",
   "execution_count": 24,
   "id": "cd5ea18c",
   "metadata": {},
   "outputs": [
    {
     "name": "stdout",
     "output_type": "stream",
     "text": [
      "[0, 1, 2, 3, 4, 5, 6, 7, 8, 9]\n"
     ]
    },
    {
     "data": {
      "text/plain": [
       "[0, 1, 2, 3, 4]"
      ]
     },
     "execution_count": 24,
     "metadata": {},
     "output_type": "execute_result"
    }
   ],
   "source": [
    "mylist = list(range(10))\n",
    "print(mylist)\n",
    "\n",
    "# Your code goes here\n",
    "\n",
    "list(filter(lambda x: x<5, mylist))\n",
    "# Expected output:\n",
    "# [0, 1, 2, 3, 4]"
   ]
  },
  {
   "cell_type": "markdown",
   "id": "af9969de",
   "metadata": {},
   "source": [
    "## Reduce\n",
    "\n",
    "Takes a function with two parameters, one can be ignored, and returns a value which is an operation between the two parameters. It is useful to sum up the results of a collection aplying a function.\n"
   ]
  },
  {
   "cell_type": "code",
   "execution_count": 36,
   "id": "30925a84",
   "metadata": {},
   "outputs": [
    {
     "name": "stdout",
     "output_type": "stream",
     "text": [
      "10\n"
     ]
    }
   ],
   "source": [
    "from functools import reduce\n",
    "\n",
    "values = [1, 2, 3, 4]\n",
    "\n",
    "summed = reduce(lambda a, b: a + b, values)\n",
    "print(summed)\n"
   ]
  },
  {
   "cell_type": "markdown",
   "id": "ca4f0b96",
   "metadata": {},
   "source": [
    "Reduce can take an optional third parameter, the initializer. The initializer tells the initial value for the accumulator in the reduce function, by default is the value of the first element in the list of values. \n",
    "Now you understand how initializer works, let’s look at the following example:\n",
    "Imagine we want to count the number of odd numbers in a list:"
   ]
  },
  {
   "cell_type": "code",
   "execution_count": 41,
   "id": "03b8c9ce",
   "metadata": {},
   "outputs": [
    {
     "name": "stdout",
     "output_type": "stream",
     "text": [
      "4\n",
      "4\n"
     ]
    }
   ],
   "source": [
    "values = [22, 4, 12, 43, 19, 71, 20] \n",
    "\n",
    "# Using for loop, the imperative way \n",
    "count = 0\n",
    "for number in values:\n",
    "    if number % 2 == 0: \n",
    "        count += 1\n",
    "print(count) \n",
    "\n",
    "\n",
    "# Using reduce() with initializer \n",
    "from functools import reduce\n",
    "count = reduce( \n",
    "    lambda acc, num: acc+1 if num % 2 == 0 else acc, \n",
    "    values, \n",
    "    0 # Initializer \n",
    "    )\n",
    "print(count) "
   ]
  },
  {
   "cell_type": "markdown",
   "id": "3c953a36",
   "metadata": {},
   "source": [
    "Let’s zoom into the predicate further:\n",
    "From the lambda function above:\n",
    "- If the number is even, the incremented acc is passed to the next iteration\n",
    "- Else, return the current value of acc\n",
    "Don’t forget that the value of the first argument ( acc in this example) of the predicate will always be the value returned from the previous iteration!"
   ]
  },
  {
   "cell_type": "markdown",
   "id": "826a63ec",
   "metadata": {},
   "source": [
    "### Exercices\n",
    "Use lambda and reduce to count the number of elements in values which are odd"
   ]
  },
  {
   "cell_type": "code",
   "execution_count": 44,
   "id": "e23fe793",
   "metadata": {},
   "outputs": [
    {
     "name": "stdout",
     "output_type": "stream",
     "text": [
      "[0, 1, 2, 3, 4, 5, 6, 7, 8]\n",
      "4\n"
     ]
    }
   ],
   "source": [
    "from functools import reduce\n",
    "\n",
    "values = list(range(9))\n",
    "print(values)\n",
    "\n",
    "count = reduce( \n",
    "    lambda acc, num: acc+1 if num % 2 != 0 else acc, \n",
    "    values, \n",
    "    0 # Initializer \n",
    "    )\n",
    "print(count) \n",
    "# Your code goes here"
   ]
  },
  {
   "cell_type": "markdown",
   "id": "274bee45",
   "metadata": {},
   "source": [
    " List comprehensions can be rewrite using maps and filters.\n",
    " Rewrite following comprehension using maps and filters\n",
    " \n",
    " "
   ]
  },
  {
   "cell_type": "code",
   "execution_count": 50,
   "id": "e398a751",
   "metadata": {},
   "outputs": [
    {
     "name": "stdout",
     "output_type": "stream",
     "text": [
      "<class 'list'> [1, 16, 100, 4, 9]\n",
      "<class 'map'> [1, 16, 100, 4, 9]\n"
     ]
    }
   ],
   "source": [
    "num = [1, 4, -5, 10, -7, 2, 3, -1]\n",
    "\n",
    "squared = [ x**2 for x in num if x > 0] \n",
    "print(type(squared), squared)\n",
    "\n",
    "# Your code goes here\n",
    "squar2= map(lambda x: x**2 ,filter(lambda x: x>0, num)) \n",
    "print(type(squar2),list(squar2))"
   ]
  },
  {
   "cell_type": "code",
   "execution_count": null,
   "id": "bdcf719f",
   "metadata": {},
   "outputs": [],
   "source": []
  }
 ],
 "metadata": {
  "kernelspec": {
   "display_name": "Python 3",
   "language": "python",
   "name": "python3"
  },
  "language_info": {
   "codemirror_mode": {
    "name": "ipython",
    "version": 3
   },
   "file_extension": ".py",
   "mimetype": "text/x-python",
   "name": "python",
   "nbconvert_exporter": "python",
   "pygments_lexer": "ipython3",
   "version": "3.9.5"
  }
 },
 "nbformat": 4,
 "nbformat_minor": 5
}

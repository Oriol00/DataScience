{
 "cells": [
  {
   "cell_type": "code",
   "execution_count": 5,
   "id": "1b2e8e66",
   "metadata": {},
   "outputs": [
    {
     "name": "stdout",
     "output_type": "stream",
     "text": [
      "()\n",
      "{}\n"
     ]
    }
   ],
   "source": [
    "def dec(func):\n",
    "    def wrap(*args, **kwargs):\n",
    "        print(args)\n",
    "        print(kwargs)\n",
    "    wrap()\n",
    "\n",
    "@dec\n",
    "def nada(*args, **kwargs):\n",
    "    pass\n",
    "\n"
   ]
  },
  {
   "cell_type": "code",
   "execution_count": 15,
   "id": "b6919152",
   "metadata": {},
   "outputs": [
    {
     "name": "stdout",
     "output_type": "stream",
     "text": [
      "(1,)\n",
      "Whee!\n",
      "{}\n"
     ]
    }
   ],
   "source": [
    "def my_decorator(func):\n",
    "    def wrapper(*args, **kwargs):\n",
    "        print(args)\n",
    "        func()\n",
    "        print(kwargs)\n",
    "    return wrapper\n",
    "\n",
    "@my_decorator ##  say_wee= my_decorator(say_whee)\n",
    "def say_whee(*arg):\n",
    "    print(\"Whee!\")\n",
    "say_whee(1)"
   ]
  },
  {
   "cell_type": "code",
   "execution_count": 24,
   "id": "a08ab1ba",
   "metadata": {},
   "outputs": [
    {
     "data": {
      "text/plain": [
       "[None]"
      ]
     },
     "execution_count": 24,
     "metadata": {},
     "output_type": "execute_result"
    }
   ],
   "source": [
    "def true(*args, **kwargs):\n",
    "    return True\n",
    "\n",
    "list(filter(true, [None]))"
   ]
  }
 ],
 "metadata": {
  "kernelspec": {
   "display_name": "Python 3",
   "language": "python",
   "name": "python3"
  },
  "language_info": {
   "codemirror_mode": {
    "name": "ipython",
    "version": 3
   },
   "file_extension": ".py",
   "mimetype": "text/x-python",
   "name": "python",
   "nbconvert_exporter": "python",
   "pygments_lexer": "ipython3",
   "version": "3.9.5"
  }
 },
 "nbformat": 4,
 "nbformat_minor": 5
}
